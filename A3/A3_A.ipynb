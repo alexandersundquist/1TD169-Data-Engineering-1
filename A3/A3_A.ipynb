{
 "cells": [
  {
   "cell_type": "markdown",
   "id": "0ff40655-8804-4c2f-b345-359dc7aebccb",
   "metadata": {},
   "source": [
    "# Section A - Working with the RDD API"
   ]
  },
  {
   "cell_type": "markdown",
   "id": "b662749d-f773-401f-8828-2155349e38c1",
   "metadata": {},
   "source": [
    "# A.1"
   ]
  },
  {
   "cell_type": "code",
   "execution_count": 1,
   "id": "2a2d234e-f6eb-48b7-a916-135286df75cc",
   "metadata": {},
   "outputs": [
    {
     "name": "stderr",
     "output_type": "stream",
     "text": [
      "Setting default log level to \"WARN\".\n",
      "To adjust logging level use sc.setLogLevel(newLevel). For SparkR, use setLogLevel(newLevel).\n",
      "25/03/07 10:40:40 WARN NativeCodeLoader: Unable to load native-hadoop library for your platform... using builtin-java classes where applicable\n",
      "25/03/07 10:40:41 WARN Utils: Service 'sparkDriver' could not bind on port 9999. Attempting port 10000.\n",
      "25/03/07 10:40:41 WARN Utils: Service 'sparkDriver' could not bind on port 10000. Attempting port 10001.\n",
      "25/03/07 10:40:41 WARN Utils: Service 'SparkUI' could not bind on port 4040. Attempting port 4041.\n",
      "25/03/07 10:40:41 WARN StandaloneSchedulerBackend: Dynamic allocation enabled without spark.executor.cores explicitly set, you may get more executors allocated than expected. It's recommended to set spark.executor.cores explicitly. Please check SPARK-30299 for more details.\n",
      "25/03/07 10:40:42 WARN Utils: Service 'org.apache.spark.network.netty.NettyBlockTransferService' could not bind on port 10005. Attempting port 10006.\n"
     ]
    }
   ],
   "source": [
    "from pyspark.sql import SparkSession \n",
    "spark_session = SparkSession.builder \\\n",
    "   .master(\"spark://192.168.2.156:7077\") \\\n",
    "   .appName(\"alexanderSundquist_A1\") \\\n",
    "   .config(\"spark.dynamicAllocation.enabled\", True) \\\n",
    "   .config(\"spark.dynamicAllocation.shuffleTracking.enabled\", True) \\\n",
    "   .config(\"spark.shuffle.service.enabled\", False) \\\n",
    "   .config(\"spark.dynamicAllocation.executorIdleTimeout\", \"30s\") \\\n",
    "   .config(\"spark.cores.max\", 8) \\\n",
    "   .config(\"spark.driver.port\",9999)\\\n",
    "   .config(\"spark.blockManager.port\",10005)\\\n",
    "   .getOrCreate() "
   ]
  },
  {
   "cell_type": "code",
   "execution_count": 2,
   "id": "011ac85d-d754-4c75-844a-3d53d2441fc8",
   "metadata": {},
   "outputs": [],
   "source": [
    "# RDD API\n",
    "spark_context = spark_session.sparkContext\n",
    "spark_context.setLogLevel(\"ERROR\")"
   ]
  },
  {
   "cell_type": "markdown",
   "id": "58180701-1e93-4a5b-afb2-1266760c4ebd",
   "metadata": {},
   "source": [
    "## A.1.1 & A.1.2"
   ]
  },
  {
   "cell_type": "code",
   "execution_count": 3,
   "id": "35f4b84f-e624-4907-93e0-3c25168cd731",
   "metadata": {},
   "outputs": [],
   "source": [
    "# Read Swedish and its English counterpart from HDFS\n",
    "en_file = spark_context.textFile(\"hdfs://192.168.2.156:9000/data/europarl/europarl-v7.sv-en.en\")\n",
    "sv_file = spark_context.textFile(\"hdfs://192.168.2.156:9000/data/europarl/europarl-v7.sv-en.sv\")"
   ]
  },
  {
   "cell_type": "code",
   "execution_count": 4,
   "id": "7b49c981-caf5-49cc-8cd1-b19c8243b736",
   "metadata": {},
   "outputs": [
    {
     "name": "stderr",
     "output_type": "stream",
     "text": [
      "                                                                                "
     ]
    },
    {
     "data": {
      "text/plain": [
       "'Resumption of the session'"
      ]
     },
     "execution_count": 4,
     "metadata": {},
     "output_type": "execute_result"
    }
   ],
   "source": [
    "en_file.first()"
   ]
  },
  {
   "cell_type": "code",
   "execution_count": 5,
   "id": "5d861f05-3f47-4340-a0cf-9ba92546103b",
   "metadata": {},
   "outputs": [
    {
     "name": "stderr",
     "output_type": "stream",
     "text": [
      "                                                                                "
     ]
    },
    {
     "data": {
      "text/plain": [
       "'Återupptagande av sessionen'"
      ]
     },
     "execution_count": 5,
     "metadata": {},
     "output_type": "execute_result"
    }
   ],
   "source": [
    "sv_file.first()"
   ]
  },
  {
   "cell_type": "markdown",
   "id": "a0a1f3c2-fabf-4494-8dd5-5a77ae1eb829",
   "metadata": {},
   "source": [
    "## A.1.3"
   ]
  },
  {
   "cell_type": "code",
   "execution_count": 6,
   "id": "b4ec600e-8d7b-4115-bbe0-e0e0cc1ffe7e",
   "metadata": {},
   "outputs": [
    {
     "name": "stderr",
     "output_type": "stream",
     "text": [
      "                                                                                "
     ]
    },
    {
     "name": "stdout",
     "output_type": "stream",
     "text": [
      "Line count Swedish file 1862234\n"
     ]
    },
    {
     "name": "stderr",
     "output_type": "stream",
     "text": [
      "[Stage 3:=============================>                             (1 + 1) / 2]"
     ]
    },
    {
     "name": "stdout",
     "output_type": "stream",
     "text": [
      "Line count English file 1862234\n"
     ]
    },
    {
     "name": "stderr",
     "output_type": "stream",
     "text": [
      "                                                                                "
     ]
    }
   ],
   "source": [
    "print(\"Line count Swedish file\", sv_file.count())\n",
    "print(\"Line count English file\", en_file.count())"
   ]
  },
  {
   "cell_type": "markdown",
   "id": "d0196c48-8a7b-4a17-9b25-55b191f0fed6",
   "metadata": {},
   "source": [
    "## A.1.4"
   ]
  },
  {
   "cell_type": "code",
   "execution_count": 7,
   "id": "acf066ed-5cb0-4d08-8bee-6de11db25d1c",
   "metadata": {},
   "outputs": [
    {
     "data": {
      "text/plain": [
       "2"
      ]
     },
     "execution_count": 7,
     "metadata": {},
     "output_type": "execute_result"
    }
   ],
   "source": [
    "# Count number of partitions \n",
    "en_file.getNumPartitions()"
   ]
  },
  {
   "cell_type": "code",
   "execution_count": 8,
   "id": "44559f5d-4243-4174-9bf8-54f6e5925c40",
   "metadata": {},
   "outputs": [
    {
     "data": {
      "text/plain": [
       "3"
      ]
     },
     "execution_count": 8,
     "metadata": {},
     "output_type": "execute_result"
    }
   ],
   "source": [
    "sv_file.getNumPartitions()"
   ]
  },
  {
   "cell_type": "markdown",
   "id": "8c21fc46-92f5-4795-9041-42d9668aa35a",
   "metadata": {},
   "source": [
    "# A.2"
   ]
  },
  {
   "cell_type": "markdown",
   "id": "debdde50-e94b-454e-9851-c7ca40bd010a",
   "metadata": {},
   "source": [
    "## A.2.1"
   ]
  },
  {
   "cell_type": "code",
   "execution_count": 9,
   "id": "a2909bc1-7e1e-499f-8148-fbbcc7b7e89c",
   "metadata": {},
   "outputs": [
    {
     "name": "stderr",
     "output_type": "stream",
     "text": [
      "[Stage 4:>                                                          (0 + 1) / 1]"
     ]
    },
    {
     "name": "stdout",
     "output_type": "stream",
     "text": [
      "återupptagande av sessionen\n"
     ]
    },
    {
     "name": "stderr",
     "output_type": "stream",
     "text": [
      "                                                                                "
     ]
    }
   ],
   "source": [
    "first_line = sv_file.first()\n",
    "first_line_lower = first_line.lower()\n",
    "print(first_line_lower)"
   ]
  },
  {
   "cell_type": "code",
   "execution_count": 10,
   "id": "15f2e0e1-8b03-4278-a9e8-f7426bb059c7",
   "metadata": {},
   "outputs": [],
   "source": [
    "import re\n",
    "def remove_special_char(file):\n",
    "    return file.map(lambda line: re.sub(\"[^A-Za-z0-9 -åäöÅÄÖ]+\",'', line))"
   ]
  },
  {
   "cell_type": "code",
   "execution_count": 11,
   "id": "4096e1e2-ac77-48dd-a221-0f69b23a434e",
   "metadata": {},
   "outputs": [],
   "source": [
    "def lower_case(file):\n",
    "    return file.map(lambda line: line.lower())"
   ]
  },
  {
   "cell_type": "code",
   "execution_count": 12,
   "id": "922c956e-7727-47b4-babe-6357764ce940",
   "metadata": {},
   "outputs": [],
   "source": [
    "def tokenize(file):\n",
    "    return file.map(lambda line: line.split(\" \"))"
   ]
  },
  {
   "cell_type": "code",
   "execution_count": 13,
   "id": "8240622e-287d-4366-a20e-71b111714796",
   "metadata": {},
   "outputs": [],
   "source": [
    "sv_preprocessed = remove_special_char(sv_file)\n",
    "sv_preprocessed = lower_case(sv_preprocessed)\n",
    "sv_preprocessed = tokenize(sv_preprocessed)\n",
    "\n",
    "en_preprocessed = remove_special_char(en_file)\n",
    "en_preprocessed = lower_case(en_preprocessed)\n",
    "en_preprocessed = tokenize(en_preprocessed)"
   ]
  },
  {
   "cell_type": "markdown",
   "id": "f1cd29ba-83f2-4e51-bb5f-9b7968e70079",
   "metadata": {},
   "source": [
    "## A.2.2"
   ]
  },
  {
   "cell_type": "code",
   "execution_count": 14,
   "id": "0c2bf31c-f950-4a82-9347-bd717bd3481e",
   "metadata": {},
   "outputs": [
    {
     "name": "stderr",
     "output_type": "stream",
     "text": [
      "                                                                                "
     ]
    },
    {
     "name": "stdout",
     "output_type": "stream",
     "text": [
      "Swedish preprocessed:  [['återupptagande', 'av', 'sessionen'], ['jag', 'förklarar', 'europaparlamentets', 'session', 'återupptagen', 'efter', 'avbrottet', 'den', '17', 'december.', 'jag', 'vill', 'på', 'nytt', 'önska', 'er', 'ett', 'gott', 'nytt', 'år', 'och', 'jag', 'hoppas', 'att', 'ni', 'haft', 'en', 'trevlig', 'semester.'], ['som', 'ni', 'kunnat', 'konstatera', 'ägde', '\"den', 'stora', 'år', '2000-buggen\"', 'aldrig', 'rum.', 'däremot', 'har', 'invånarna', 'i', 'ett', 'antal', 'av', 'våra', 'medlemsländer', 'drabbats', 'av', 'naturkatastrofer', 'som', 'verkligen', 'varit', 'förskräckliga.'], ['ni', 'har', 'begärt', 'en', 'debatt', 'i', 'ämnet', 'under', 'sammanträdesperiodens', 'kommande', 'dagar.'], ['till', 'dess', 'vill', 'jag', 'att', 'vi,', 'som', 'ett', 'antal', 'kolleger', 'begärt,', 'håller', 'en', 'tyst', 'minut', 'för', 'offren', 'för', 'bl.a.', 'stormarna', 'i', 'de', 'länder', 'i', 'europeiska', 'unionen', 'som', 'drabbats.'], ['jag', 'ber', 'er', 'resa', 'er', 'för', 'en', 'tyst', 'minut.'], ['(parlamentet', 'höll', 'en', 'tyst', 'minut.)'], ['fru', 'talman!', 'det', 'gäller', 'en', 'ordningsfråga.'], ['ni', 'känner', 'till', 'från', 'media', 'att', 'det', 'skett', 'en', 'rad', 'bombexplosioner', 'och', 'mord', 'i', 'sri', 'lanka.'], ['en', 'av', 'de', 'personer', 'som', 'mycket', 'nyligen', 'mördades', 'i', 'sri', 'lanka', 'var', 'kumar', 'ponnambalam,', 'som', 'besökte', 'europaparlamentet', 'för', 'bara', 'några', 'månader', 'sedan.']]\n"
     ]
    },
    {
     "name": "stderr",
     "output_type": "stream",
     "text": [
      "[Stage 6:>                                                          (0 + 1) / 1]"
     ]
    },
    {
     "name": "stdout",
     "output_type": "stream",
     "text": [
      "English preprocessed:  [['resumption', 'of', 'the', 'session'], ['i', 'declare', 'resumed', 'the', 'session', 'of', 'the', 'european', 'parliament', 'adjourned', 'on', 'friday', '17', 'december', '1999,', 'and', 'i', 'would', 'like', 'once', 'again', 'to', 'wish', 'you', 'a', 'happy', 'new', 'year', 'in', 'the', 'hope', 'that', 'you', 'enjoyed', 'a', 'pleasant', 'festive', 'period.'], ['although,', 'as', 'you', 'will', 'have', 'seen,', 'the', 'dreaded', \"'millennium\", \"bug'\", 'failed', 'to', 'materialise,', 'still', 'the', 'people', 'in', 'a', 'number', 'of', 'countries', 'suffered', 'a', 'series', 'of', 'natural', 'disasters', 'that', 'truly', 'were', 'dreadful.'], ['you', 'have', 'requested', 'a', 'debate', 'on', 'this', 'subject', 'in', 'the', 'course', 'of', 'the', 'next', 'few', 'days,', 'during', 'this', 'part-session.'], ['in', 'the', 'meantime,', 'i', 'should', 'like', 'to', 'observe', 'a', \"minute'\", 's', 'silence,', 'as', 'a', 'number', 'of', 'members', 'have', 'requested,', 'on', 'behalf', 'of', 'all', 'the', 'victims', 'concerned,', 'particularly', 'those', 'of', 'the', 'terrible', 'storms,', 'in', 'the', 'various', 'countries', 'of', 'the', 'european', 'union.'], ['please', 'rise,', 'then,', 'for', 'this', \"minute'\", 's', 'silence.'], ['(the', 'house', 'rose', 'and', 'observed', 'a', \"minute'\", 's', 'silence)'], ['madam', 'president,', 'on', 'a', 'point', 'of', 'order.'], ['you', 'will', 'be', 'aware', 'from', 'the', 'press', 'and', 'television', 'that', 'there', 'have', 'been', 'a', 'number', 'of', 'bomb', 'explosions', 'and', 'killings', 'in', 'sri', 'lanka.'], ['one', 'of', 'the', 'people', 'assassinated', 'very', 'recently', 'in', 'sri', 'lanka', 'was', 'mr', 'kumar', 'ponnambalam,', 'who', 'had', 'visited', 'the', 'european', 'parliament', 'just', 'a', 'few', 'months', 'ago.']]\n"
     ]
    },
    {
     "name": "stderr",
     "output_type": "stream",
     "text": [
      "                                                                                "
     ]
    }
   ],
   "source": [
    "print(\"Swedish preprocessed: \", sv_preprocessed.take(10))\n",
    "print(\"English preprocessed: \", en_preprocessed.take(10))"
   ]
  },
  {
   "cell_type": "markdown",
   "id": "72dcf14a-73b5-4693-aaf1-a370abbe2c3a",
   "metadata": {},
   "source": [
    "## A.2.3"
   ]
  },
  {
   "cell_type": "code",
   "execution_count": 15,
   "id": "c91c437c-180b-47db-8575-ce5184dfa3fa",
   "metadata": {},
   "outputs": [
    {
     "name": "stderr",
     "output_type": "stream",
     "text": [
      "                                                                                "
     ]
    },
    {
     "name": "stdout",
     "output_type": "stream",
     "text": [
      "Line count Swedish file 1862234\n"
     ]
    },
    {
     "name": "stderr",
     "output_type": "stream",
     "text": [
      "[Stage 8:=============================>                             (1 + 1) / 2]"
     ]
    },
    {
     "name": "stdout",
     "output_type": "stream",
     "text": [
      "Line count English file 1862234\n"
     ]
    },
    {
     "name": "stderr",
     "output_type": "stream",
     "text": [
      "                                                                                "
     ]
    }
   ],
   "source": [
    "print(\"Line count Swedish file\", sv_preprocessed.count())\n",
    "print(\"Line count English file\", en_preprocessed.count())"
   ]
  },
  {
   "cell_type": "markdown",
   "id": "593f2645-64e1-4347-b363-3e15e6565bf6",
   "metadata": {},
   "source": [
    "# A.3"
   ]
  },
  {
   "cell_type": "markdown",
   "id": "2d907120-02da-4c8b-a100-4924ef89e51c",
   "metadata": {},
   "source": [
    "## A.3.1 and A.3.2"
   ]
  },
  {
   "cell_type": "code",
   "execution_count": 16,
   "id": "8e85c6cf-c667-4d77-bfc4-a696491ef995",
   "metadata": {},
   "outputs": [],
   "source": [
    "import re\n",
    "def remove_special_char(file):\n",
    "    return file.map(lambda line: re.sub(\"[^A-Za-z0-9 åäöÅÄÖ]+\",'', line))\n",
    "\n",
    "def lower_case(file):\n",
    "    return file.map(lambda line: line.lower())\n",
    "\n",
    "# Easier to use flatmap to break out of lists that are kept with map()\n",
    "def tokenize(file):\n",
    "    return file.flatMap(lambda line: line.split(\" \"))\n",
    "\n",
    "sv_pre = remove_special_char(sv_file)\n",
    "sv_pre = lower_case(sv_pre)\n",
    "sv_pre = tokenize(sv_pre)\n",
    "\n",
    "en_pre = remove_special_char(en_file)\n",
    "en_pre = lower_case(en_pre)\n",
    "en_pre = tokenize(en_pre)"
   ]
  },
  {
   "cell_type": "code",
   "execution_count": 17,
   "id": "24871159-623a-456a-9acd-6031a8b8b00d",
   "metadata": {},
   "outputs": [
    {
     "name": "stderr",
     "output_type": "stream",
     "text": [
      "                                                                                "
     ]
    },
    {
     "name": "stdout",
     "output_type": "stream",
     "text": [
      "[('resumption', 527), ('of', 1662006), ('i', 504521), ('declare', 1386), ('european', 270336)]\n"
     ]
    },
    {
     "name": "stderr",
     "output_type": "stream",
     "text": [
      "[Stage 11:===================>                                      (1 + 2) / 3]"
     ]
    },
    {
     "name": "stdout",
     "output_type": "stream",
     "text": [
      "[('session', 771), ('efter', 42231), ('avbrottet', 293), ('december', 6019), ('vill', 131230)]\n"
     ]
    },
    {
     "name": "stderr",
     "output_type": "stream",
     "text": [
      "                                                                                "
     ]
    }
   ],
   "source": [
    "# MapReduce to count occurences of each word\n",
    "\n",
    "en_words = en_pre.map(lambda w: (w,1))\n",
    "en_counts = en_words.reduceByKey(lambda a, b: a + b)\n",
    "\n",
    "sv_words = sv_pre.map(lambda w: (w,1))\n",
    "sv_counts = sv_words.reduceByKey(lambda a, b: a + b)\n",
    "\n",
    "print(en_counts.take(5))\n",
    "print(sv_counts.take(5))"
   ]
  },
  {
   "cell_type": "code",
   "execution_count": 18,
   "id": "8a7eca2f-4d2e-4300-8613-3de2bd4446bd",
   "metadata": {},
   "outputs": [
    {
     "name": "stderr",
     "output_type": "stream",
     "text": [
      "                                                                                "
     ]
    },
    {
     "data": {
      "text/plain": [
       "[('återupptagande', 1),\n",
       " ('av', 1),\n",
       " ('sessionen', 1),\n",
       " ('jag', 1),\n",
       " ('förklarar', 1)]"
      ]
     },
     "execution_count": 18,
     "metadata": {},
     "output_type": "execute_result"
    }
   ],
   "source": [
    "sv_words.take(5)"
   ]
  },
  {
   "cell_type": "code",
   "execution_count": 19,
   "id": "e504ece2-a8dc-44b8-bc3b-c3e8aef3c1fe",
   "metadata": {},
   "outputs": [
    {
     "data": {
      "text/plain": [
       "[('att', 1709939),\n",
       " ('och', 1350379),\n",
       " ('i', 1054253),\n",
       " ('det', 952991),\n",
       " ('som', 917591),\n",
       " ('för', 915081),\n",
       " ('av', 740724),\n",
       " ('är', 701842),\n",
       " ('en', 636829),\n",
       " ('vi', 546072)]"
      ]
     },
     "execution_count": 19,
     "metadata": {},
     "output_type": "execute_result"
    }
   ],
   "source": [
    "# Calculate 10 most reacurring words in sv file\n",
    "\n",
    "sorted_sv_counts = sv_counts.sortBy(lambda w: w[1], ascending=False)\n",
    "sorted_sv_counts.take(10)"
   ]
  },
  {
   "cell_type": "code",
   "execution_count": 20,
   "id": "57082538-3b1f-496d-b529-b15d2680e770",
   "metadata": {},
   "outputs": [
    {
     "name": "stderr",
     "output_type": "stream",
     "text": [
      "[Stage 21:===================>                                      (1 + 2) / 3]"
     ]
    },
    {
     "name": "stdout",
     "output_type": "stream",
     "text": [
      "total words= 41604741\n"
     ]
    },
    {
     "name": "stderr",
     "output_type": "stream",
     "text": [
      "                                                                                "
     ]
    }
   ],
   "source": [
    "# Calculate total words in sv file\n",
    "\n",
    "from operator import add\n",
    "\n",
    "sv_words = sv_file.map(lambda line: line.split(\" \"))\n",
    "\n",
    "sv_word_counts = sv_words.map(lambda w: len(w))\n",
    "\n",
    "sv_total_words = sv_word_counts.reduce(add)\n",
    "\n",
    "print(f\"total words= {sv_total_words}\")  "
   ]
  },
  {
   "cell_type": "markdown",
   "id": "41970dc2-e025-4762-b0d1-1032fd134c26",
   "metadata": {},
   "source": [
    "Out of 41 million words the most common word makes up 1.7 million. That seems reasonable to me."
   ]
  },
  {
   "cell_type": "code",
   "execution_count": 21,
   "id": "bcbf5c83-b168-4e8c-b8b9-51a682825cc7",
   "metadata": {},
   "outputs": [
    {
     "data": {
      "text/plain": [
       "[('the', 3505175),\n",
       " ('of', 1662006),\n",
       " ('to', 1543746),\n",
       " ('and', 1318369),\n",
       " ('in', 1088902),\n",
       " ('that', 839083),\n",
       " ('is', 774941),\n",
       " ('a', 774545),\n",
       " ('for', 538192),\n",
       " ('we', 526488)]"
      ]
     },
     "execution_count": 21,
     "metadata": {},
     "output_type": "execute_result"
    }
   ],
   "source": [
    "# Calculate 10 most reacurring words in en file\n",
    "sorted_en_counts = en_counts.sortBy(lambda w: w[1], ascending=False)\n",
    "sorted_en_counts.take(10)"
   ]
  },
  {
   "cell_type": "code",
   "execution_count": 22,
   "id": "c6619565-af61-4697-8965-307d8144ff68",
   "metadata": {},
   "outputs": [
    {
     "name": "stderr",
     "output_type": "stream",
     "text": [
      "[Stage 29:=============================>                            (1 + 1) / 2]"
     ]
    },
    {
     "name": "stdout",
     "output_type": "stream",
     "text": [
      "total words= 45778381\n"
     ]
    },
    {
     "name": "stderr",
     "output_type": "stream",
     "text": [
      "                                                                                "
     ]
    }
   ],
   "source": [
    "# Calculate total words for en file\n",
    "from operator import add\n",
    "\n",
    "en_words = en_file.map(lambda line: line.split(\" \"))\n",
    "\n",
    "en_word_counts = en_words.map(lambda w: len(w))\n",
    "\n",
    "en_total_words = en_word_counts.reduce(add)\n",
    "\n",
    "print(f\"total words= {en_total_words}\")  "
   ]
  },
  {
   "cell_type": "markdown",
   "id": "131b78ed-a56e-449d-b078-86b93bdd393d",
   "metadata": {},
   "source": [
    "Out of 46 million words the most common word makes up 3.5 million. That seems reasonable to me."
   ]
  },
  {
   "cell_type": "markdown",
   "id": "95abd64b-69da-4c9c-a026-c3c5d3dd7a22",
   "metadata": {},
   "source": [
    "# A.4"
   ]
  },
  {
   "cell_type": "markdown",
   "id": "97f577e4-0c66-4a80-ab05-cb1c4ef387fa",
   "metadata": {},
   "source": [
    "## A.4.1"
   ]
  },
  {
   "cell_type": "code",
   "execution_count": 23,
   "id": "be7257ac-42f3-4f44-9fdf-3f493735c203",
   "metadata": {},
   "outputs": [
    {
     "name": "stderr",
     "output_type": "stream",
     "text": [
      "                                                                                "
     ]
    }
   ],
   "source": [
    "sv_1 = sv_preprocessed.zipWithIndex()\n",
    "en_1 = en_preprocessed.zipWithIndex()"
   ]
  },
  {
   "cell_type": "markdown",
   "id": "272e188e-516d-4073-b4e4-5cc261cff1f1",
   "metadata": {},
   "source": [
    "## A.4.2"
   ]
  },
  {
   "cell_type": "code",
   "execution_count": 24,
   "id": "16ee5572-3c4e-4b16-a0f9-1807922261d3",
   "metadata": {},
   "outputs": [],
   "source": [
    "sv_2 = sv_1.map(lambda x: (x[1], x[0]))\n",
    "en_2 = en_1.map(lambda x: (x[1], x[0]))"
   ]
  },
  {
   "cell_type": "markdown",
   "id": "0911e153-efda-4a7a-a708-9bdbd2049f03",
   "metadata": {},
   "source": [
    "## A.4.3"
   ]
  },
  {
   "cell_type": "code",
   "execution_count": 25,
   "id": "5c95ddb2-5b63-4546-a297-ca9de7bbfaab",
   "metadata": {
    "scrolled": true
   },
   "outputs": [],
   "source": [
    "sv_en_3 = sv_2.join(en_2)"
   ]
  },
  {
   "cell_type": "code",
   "execution_count": 26,
   "id": "cd9030c4-a8d3-41bf-99ba-5e34dd0c7ae7",
   "metadata": {},
   "outputs": [
    {
     "name": "stderr",
     "output_type": "stream",
     "text": [
      "                                                                                "
     ]
    },
    {
     "data": {
      "text/plain": [
       "[(205,\n",
       "  (['även',\n",
       "    'om',\n",
       "    'jag',\n",
       "    'är',\n",
       "    'medveten',\n",
       "    'om',\n",
       "    'att',\n",
       "    'detta',\n",
       "    'endast',\n",
       "    'är',\n",
       "    'ett',\n",
       "    'litet',\n",
       "    'steg',\n",
       "    'mot',\n",
       "    'ökad',\n",
       "    'transportsäkerhet',\n",
       "    'ber',\n",
       "    'jag',\n",
       "    'er',\n",
       "    'anta',\n",
       "    'betänkandet.'],\n",
       "   ['i',\n",
       "    'do',\n",
       "    'realise',\n",
       "    'that',\n",
       "    'this',\n",
       "    'is',\n",
       "    'only',\n",
       "    'a',\n",
       "    'small',\n",
       "    'step',\n",
       "    'towards',\n",
       "    'increased',\n",
       "    'transport',\n",
       "    'safety,',\n",
       "    'but',\n",
       "    'i',\n",
       "    'would',\n",
       "    'ask',\n",
       "    'you',\n",
       "    'to',\n",
       "    'endorse',\n",
       "    'this',\n",
       "    'report.'])),\n",
       " (1565,\n",
       "  (['som',\n",
       "    'ni',\n",
       "    'vet',\n",
       "    'genomförs',\n",
       "    'endast',\n",
       "    'omröstningar',\n",
       "    'med',\n",
       "    'namnupprop',\n",
       "    'och',\n",
       "    'elektroniska',\n",
       "    'omröstningar',\n",
       "    'om',\n",
       "    'kollegerna',\n",
       "    'begär',\n",
       "    'detta.'],\n",
       "   ['you',\n",
       "    'know',\n",
       "    'that',\n",
       "    'voting',\n",
       "    'by',\n",
       "    'roll',\n",
       "    'call',\n",
       "    'or',\n",
       "    'electronic',\n",
       "    'checking',\n",
       "    'only',\n",
       "    'takes',\n",
       "    'place',\n",
       "    'if',\n",
       "    'members',\n",
       "    'of',\n",
       "    'the',\n",
       "    'house',\n",
       "    'request',\n",
       "    'it.'])),\n",
       " (8660, (['.'], ['']))]"
      ]
     },
     "execution_count": 26,
     "metadata": {},
     "output_type": "execute_result"
    }
   ],
   "source": [
    "sv_en_3.take(3)"
   ]
  },
  {
   "cell_type": "markdown",
   "id": "e89d5639-b6ff-4064-b58d-d418e431baf3",
   "metadata": {},
   "source": [
    "## A.4.4"
   ]
  },
  {
   "cell_type": "code",
   "execution_count": 27,
   "id": "af6c7137-d57f-4529-8d0b-601e7049509d",
   "metadata": {},
   "outputs": [],
   "source": [
    "sv_en_4 = sv_en_3.filter(lambda x: x[1][1] != [''] and x[1][0] != [''])"
   ]
  },
  {
   "cell_type": "code",
   "execution_count": 29,
   "id": "2200e5fd-f70a-4c16-abf8-99aa8cfbf845",
   "metadata": {},
   "outputs": [
    {
     "name": "stderr",
     "output_type": "stream",
     "text": [
      "[Stage 37:==============================================>           (4 + 1) / 5]"
     ]
    },
    {
     "name": "stdout",
     "output_type": "stream",
     "text": [
      "Line count sv en removed empty lines 1848423\n"
     ]
    },
    {
     "name": "stderr",
     "output_type": "stream",
     "text": [
      "                                                                                "
     ]
    }
   ],
   "source": [
    "print(\"Line count sv en removed empty lines\", sv_en_4.count())\n"
   ]
  },
  {
   "cell_type": "code",
   "execution_count": 30,
   "id": "8f378a54-f0e2-4fa1-8c06-5c9ddd095dbd",
   "metadata": {},
   "outputs": [
    {
     "name": "stderr",
     "output_type": "stream",
     "text": [
      "[Stage 39:==============================================>           (4 + 1) / 5]"
     ]
    },
    {
     "name": "stdout",
     "output_type": "stream",
     "text": [
      "Line count sv en not removed empty lines:  1862234\n"
     ]
    },
    {
     "name": "stderr",
     "output_type": "stream",
     "text": [
      "                                                                                "
     ]
    }
   ],
   "source": [
    "print(\"Line count sv en not removed empty lines: \", sv_en_3.count())"
   ]
  },
  {
   "cell_type": "code",
   "execution_count": 48,
   "id": "a3677cd0-e71e-48d9-8f29-3aa2e2717b82",
   "metadata": {},
   "outputs": [
    {
     "name": "stderr",
     "output_type": "stream",
     "text": [
      "[Stage 74:==================================>                       (3 + 2) / 5]"
     ]
    },
    {
     "name": "stdout",
     "output_type": "stream",
     "text": [
      "Number of lines removed:  13811\n"
     ]
    },
    {
     "name": "stderr",
     "output_type": "stream",
     "text": [
      "                                                                                "
     ]
    }
   ],
   "source": [
    "print(\"Number of lines removed: \", sv_en_3.count()-sv_en_4.count())"
   ]
  },
  {
   "cell_type": "markdown",
   "id": "6bfda135-4431-444e-b236-d7e0e0e68c55",
   "metadata": {},
   "source": [
    "## A.4.5"
   ]
  },
  {
   "cell_type": "code",
   "execution_count": 38,
   "id": "142980df-f43f-41cd-ac43-bc4900f79af8",
   "metadata": {},
   "outputs": [],
   "source": [
    "sv_en_5 = sv_en_4.filter(lambda x: len(x[1][1]) < 10 and len(x[1][0]) < 10) "
   ]
  },
  {
   "cell_type": "code",
   "execution_count": 49,
   "id": "33ecc2c3-160a-461f-9273-5ce5138458b5",
   "metadata": {},
   "outputs": [
    {
     "name": "stderr",
     "output_type": "stream",
     "text": [
      "[Stage 76:==============================================>           (4 + 1) / 5]"
     ]
    },
    {
     "name": "stdout",
     "output_type": "stream",
     "text": [
      "Line count sv_en_5 200796\n"
     ]
    },
    {
     "name": "stderr",
     "output_type": "stream",
     "text": [
      "                                                                                "
     ]
    }
   ],
   "source": [
    "print(f\"Line count sv_en_5 {sv_en_5.count()}\")"
   ]
  },
  {
   "cell_type": "markdown",
   "id": "8a3798bc-24d9-4ed5-ae16-9e5eb2e5ea0c",
   "metadata": {},
   "source": [
    "## A.4.6"
   ]
  },
  {
   "cell_type": "code",
   "execution_count": 40,
   "id": "a258c262-0fbe-4500-94c7-41c9f54f4cb3",
   "metadata": {},
   "outputs": [],
   "source": [
    "sv_en_6 = sv_en_5.filter(lambda x: len(x[1][1]) == len(x[1][0])) "
   ]
  },
  {
   "cell_type": "code",
   "execution_count": 41,
   "id": "da67beb1-e1ea-4479-86b0-3e7357a4e1e6",
   "metadata": {},
   "outputs": [
    {
     "name": "stderr",
     "output_type": "stream",
     "text": [
      "[Stage 53:==============================================>           (4 + 1) / 5]"
     ]
    },
    {
     "name": "stdout",
     "output_type": "stream",
     "text": [
      "Line count sv_en_6 73844\n"
     ]
    },
    {
     "name": "stderr",
     "output_type": "stream",
     "text": [
      "                                                                                "
     ]
    }
   ],
   "source": [
    "print(f\"Line count sv_en_6 {sv_en_6.count()}\")"
   ]
  },
  {
   "cell_type": "markdown",
   "id": "31e14149-e624-4240-b6cd-09fc998a4789",
   "metadata": {},
   "source": [
    "## A.4.7"
   ]
  },
  {
   "cell_type": "code",
   "execution_count": 44,
   "id": "01edbe16-7394-4703-8942-af6fcd749d43",
   "metadata": {},
   "outputs": [],
   "source": [
    "sv_en_7 = sv_en_6.flatMap(lambda x: zip(x[1][0], x[1][1]))"
   ]
  },
  {
   "cell_type": "code",
   "execution_count": 45,
   "id": "89c63625-976c-4344-8d36-d4cb39f4e83a",
   "metadata": {},
   "outputs": [
    {
     "name": "stderr",
     "output_type": "stream",
     "text": [
      "                                                                                "
     ]
    },
    {
     "data": {
      "text/plain": [
       "[('det', 'the'), ('är', 'commission'), ('vad', 'is')]"
      ]
     },
     "execution_count": 45,
     "metadata": {},
     "output_type": "execute_result"
    }
   ],
   "source": [
    "sv_en_7.take(3)"
   ]
  },
  {
   "cell_type": "markdown",
   "id": "cb25aa81-cd4b-4a86-a137-17a426f3843f",
   "metadata": {},
   "source": [
    "## A.4.8"
   ]
  },
  {
   "cell_type": "code",
   "execution_count": 46,
   "id": "48162899-7239-4aa7-83b8-ebff99804532",
   "metadata": {},
   "outputs": [
    {
     "name": "stderr",
     "output_type": "stream",
     "text": [
      "[Stage 59:==============================================>           (4 + 1) / 5]"
     ]
    },
    {
     "name": "stdout",
     "output_type": "stream",
     "text": [
      "[(('bör', 'should'), 362), (('göra', 'do'), 267), (('det.', 'that.'), 303), (('värd', 'the'), 1), (('montt', 'montt'), 2)]\n"
     ]
    },
    {
     "name": "stderr",
     "output_type": "stream",
     "text": [
      "                                                                                "
     ]
    }
   ],
   "source": [
    "# MapReduce to count occurences of each word pair\n",
    "from operator import add\n",
    "\n",
    "wp_map = sv_en_7.map(lambda wp: (wp,1))\n",
    "\n",
    "wp_counts = wp_map.reduceByKey(add)\n",
    "\n",
    "print(wp_counts.take(5))"
   ]
  },
  {
   "cell_type": "markdown",
   "id": "574c6ff2-bf18-439b-b8e5-310d235610a2",
   "metadata": {},
   "source": [
    "## A.4.9"
   ]
  },
  {
   "cell_type": "code",
   "execution_count": 47,
   "id": "36fe786f-6e2b-438f-ab92-c062c6903be0",
   "metadata": {},
   "outputs": [
    {
     "data": {
      "text/plain": [
       "[(('är', 'is'), 10040),\n",
       " (('vi', 'we'), 5531),\n",
       " (('jag', 'i'), 5021),\n",
       " (('detta', 'this'), 3253),\n",
       " (('avslutad.', 'closed.'), 2964),\n",
       " (('och', 'and'), 2917),\n",
       " (('en', 'a'), 2888),\n",
       " (('det', 'it'), 2866),\n",
       " (('det', 'that'), 2806),\n",
       " (('inte', 'not'), 2651)]"
      ]
     },
     "execution_count": 47,
     "metadata": {},
     "output_type": "execute_result"
    }
   ],
   "source": [
    "# Calculate 10 most reacurring word pairs\n",
    "\n",
    "sorted_counts = wp_counts.sortBy(lambda w: w[1], ascending=False)\n",
    "sorted_counts.take(10)"
   ]
  },
  {
   "cell_type": "code",
   "execution_count": 50,
   "id": "a545d0e8-ee62-4dbe-a3f7-769cd5344e4c",
   "metadata": {},
   "outputs": [],
   "source": [
    "spark_context.stop()"
   ]
  }
 ],
 "metadata": {
  "kernelspec": {
   "display_name": "Python 3 (ipykernel)",
   "language": "python",
   "name": "python3"
  },
  "language_info": {
   "codemirror_mode": {
    "name": "ipython",
    "version": 3
   },
   "file_extension": ".py",
   "mimetype": "text/x-python",
   "name": "python",
   "nbconvert_exporter": "python",
   "pygments_lexer": "ipython3",
   "version": "3.10.12"
  }
 },
 "nbformat": 4,
 "nbformat_minor": 5
}
