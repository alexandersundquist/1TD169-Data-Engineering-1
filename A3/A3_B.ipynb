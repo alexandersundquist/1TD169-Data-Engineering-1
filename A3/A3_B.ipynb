{
 "cells": [
  {
   "cell_type": "markdown",
   "id": "b111df9e-2987-4c85-817f-5652fc71381b",
   "metadata": {},
   "source": [
    "# A3 Section B - Working with DataFrames and SQL"
   ]
  },
  {
   "cell_type": "code",
   "execution_count": 1,
   "id": "9d2263dc-2be7-48bc-baad-1c8a847f9a1b",
   "metadata": {},
   "outputs": [],
   "source": [
    "import numpy as np # linear algebra\n",
    "import pandas as pd # data processing, CSV file I/O (e.g. pd.read_csv)"
   ]
  },
  {
   "cell_type": "code",
   "execution_count": 2,
   "id": "2f044db9-6aee-42b3-aac7-6c13fbf81750",
   "metadata": {},
   "outputs": [],
   "source": [
    "import pyspark\n",
    "from pyspark import SparkConf, SparkContext\n",
    "from pyspark.sql import SparkSession, SQLContext\n",
    "from pyspark.sql.types import *\n",
    "from pyspark.sql.functions import *"
   ]
  },
  {
   "cell_type": "code",
   "execution_count": 3,
   "id": "d8cc3716-b0a1-4dfb-a3d1-eed30066f3f7",
   "metadata": {},
   "outputs": [],
   "source": [
    "# setting random seed for notebook reproducability\n",
    "rnd_seed=23\n",
    "np.random.seed=rnd_seed\n",
    "np.random.set_state=rnd_seed"
   ]
  },
  {
   "cell_type": "code",
   "execution_count": 9,
   "id": "0d17c092-5b16-43dc-b07c-6a98cf20919b",
   "metadata": {},
   "outputs": [],
   "source": [
    "spark_session = SparkSession.builder \\\n",
    "   .master(\"spark://192.168.2.156:7077\") \\\n",
    "   .appName(\"alexander_sundquist_A3_B\") \\\n",
    "   .config(\"spark.dynamicAllocation.enabled\", True) \\\n",
    "   .config(\"spark.dynamicAllocation.shuffleTracking.enabled\", True) \\\n",
    "   .config(\"spark.shuffle.service.enabled\", False) \\\n",
    "   .config(\"spark.dynamicAllocation.executorIdleTimeout\", \"30s\") \\\n",
    "   .config(\"spark.cores.max\", 8) \\\n",
    "   .config(\"spark.driver.port\",9999)\\\n",
    "   .config(\"spark.blockManager.port\",10005)\\\n",
    "   .getOrCreate() \n",
    "\n",
    "spark_context = spark_session.sparkContext\n",
    "spark_context.setLogLevel(\"ERROR\")"
   ]
  },
  {
   "cell_type": "code",
   "execution_count": 5,
   "id": "6ab3a85e-790d-4c53-be9f-2008f7b6d1ca",
   "metadata": {},
   "outputs": [
    {
     "name": "stderr",
     "output_type": "stream",
     "text": [
      "/home/ubuntu/.local/lib/python3.10/site-packages/pyspark/sql/context.py:113: FutureWarning: Deprecated in 3.0.0. Use SparkSession.builder.getOrCreate() instead.\n",
      "  warnings.warn(\n"
     ]
    },
    {
     "data": {
      "text/plain": [
       "<pyspark.sql.context.SQLContext at 0x7f4e801fb820>"
      ]
     },
     "execution_count": 5,
     "metadata": {},
     "output_type": "execute_result"
    }
   ],
   "source": [
    "sqlContext = SQLContext(spark_session.sparkContext)\n",
    "sqlContext"
   ]
  },
  {
   "cell_type": "code",
   "execution_count": 6,
   "id": "3ab6c591-be01-46d4-a9b7-00d9848235f2",
   "metadata": {},
   "outputs": [
    {
     "name": "stderr",
     "output_type": "stream",
     "text": [
      "                                                                                "
     ]
    }
   ],
   "source": [
    "#Loading Data to dataframe, store in cache memory to increase speed\n",
    "df = sqlContext.read.csv(\"hdfs://192.168.2.156:9000/data/los-angeles-parking-citations\", header=\"true\", inferSchema=\"true\").cache()"
   ]
  },
  {
   "cell_type": "code",
   "execution_count": 8,
   "id": "94111af0-8199-41a4-95fb-b914a00c3f96",
   "metadata": {},
   "outputs": [
    {
     "name": "stdout",
     "output_type": "stream",
     "text": [
      "+-------------+--------------------+----------+--------+-----------+--------------+-----------------+----+----+----------+-----+------------------+-----+------+--------------+---------------------+-----------+---------+---------+------------------+-----------------+----------------------+\n",
      "|Ticket number|          Issue Date|Issue time|Meter Id|Marked Time|RP State Plate|Plate Expiry Date| VIN|Make|Body Style|Color|          Location|Route|Agency|Violation code|Violation Description|Fine amount| Latitude|Longitude|Agency Description|Color Description|Body Style Description|\n",
      "+-------------+--------------------+----------+--------+-----------+--------------+-----------------+----+----+----------+-----+------------------+-----+------+--------------+---------------------+-----------+---------+---------+------------------+-----------------+----------------------+\n",
      "|   1103341116|2015-12-21T00:00:...|      1251|    NULL|       NULL|            CA|           200304|NULL|HOND|        PA|   GY|   13147 WELBY WAY|01521|     1|        4000A1|   NO EVIDENCE OF REG|         50|    99999|    99999|              NULL|             NULL|                  NULL|\n",
      "|   1103700150|2015-12-21T00:00:...|      1435|    NULL|       NULL|            CA|           201512|NULL| GMC|        VN|   WH|     525 S MAIN ST| 1C51|     1|        4000A1|   NO EVIDENCE OF REG|         50|    99999|    99999|              NULL|             NULL|                  NULL|\n",
      "|   1104803000|2015-12-21T00:00:...|      2055|    NULL|       NULL|            CA|           201503|NULL|NISS|        PA|   BK|     200 WORLD WAY|  2R2|     2|          8939|           WHITE CURB|         58|6439997.9|1802686.4|              NULL|             NULL|                  NULL|\n",
      "|   1104820732|2015-12-26T00:00:...|      1515|    NULL|       NULL|            CA|             NULL|NULL|ACUR|        PA|   WH|     100 WORLD WAY| 2F11|     2|           000|               17104h|       NULL|6440041.1|1802686.2|              NULL|             NULL|                  NULL|\n",
      "|   1105461453|2015-09-15T00:00:...|       115|    NULL|       NULL|            CA|           200316|NULL|CHEV|        PA|   BK|GEORGIA ST/OLYMPIC|1FB70|     1|         8069A| NO STOPPING/STANDING|         93|    99999|    99999|              NULL|             NULL|                  NULL|\n",
      "|   1106226590|2015-09-15T00:00:...|        19|    NULL|       NULL|            CA|           201507|NULL|CHEV|        VN|   GY|SAN PEDRO S/O BOYD|1A35W|     1|        4000A1|   NO EVIDENCE OF REG|         50|    99999|    99999|              NULL|             NULL|                  NULL|\n",
      "|   1106500452|2015-12-17T00:00:...|      1710|    NULL|       NULL|            CA|           201605|NULL|MAZD|        PA|   BL|   SUNSET/ALVARADO|00217|     1|          8070| PARK IN GRID LOCK ZN|        163|    99999|    99999|              NULL|             NULL|                  NULL|\n",
      "|   1106500463|2015-12-17T00:00:...|      1710|    NULL|       NULL|            CA|           201602|NULL|TOYO|        PA|   BK|   SUNSET/ALVARADO|00217|     1|          8070| PARK IN GRID LOCK ZN|        163|    99999|    99999|              NULL|             NULL|                  NULL|\n",
      "|   1106506402|2015-12-22T00:00:...|       945|    NULL|       NULL|            CA|           201605|NULL|CHEV|        PA|   BR|    721 S WESTLAKE| 2A75|     1|        8069AA|     NO STOP/STAND AM|         93|    99999|    99999|              NULL|             NULL|                  NULL|\n",
      "|   1106506413|2015-12-22T00:00:...|      1100|    NULL|       NULL|            CA|           201701|NULL|NISS|        PA|   SI|   1159 HUNTLEY DR| 2A75|     1|        8069AA|     NO STOP/STAND AM|         93|    99999|    99999|              NULL|             NULL|                  NULL|\n",
      "+-------------+--------------------+----------+--------+-----------+--------------+-----------------+----+----+----------+-----+------------------+-----+------+--------------+---------------------+-----------+---------+---------+------------------+-----------------+----------------------+\n",
      "only showing top 10 rows\n",
      "\n"
     ]
    }
   ],
   "source": [
    "df.show(10)"
   ]
  },
  {
   "cell_type": "code",
   "execution_count": 10,
   "id": "b11ffbba-95a7-418e-ac39-c04f945bb6d4",
   "metadata": {},
   "outputs": [
    {
     "name": "stdout",
     "output_type": "stream",
     "text": [
      "root\n",
      " |-- Ticket number: string (nullable = true)\n",
      " |-- Issue Date: string (nullable = true)\n",
      " |-- Issue time: string (nullable = true)\n",
      " |-- Meter Id: string (nullable = true)\n",
      " |-- Marked Time: string (nullable = true)\n",
      " |-- RP State Plate: string (nullable = true)\n",
      " |-- Plate Expiry Date: string (nullable = true)\n",
      " |-- VIN: string (nullable = true)\n",
      " |-- Make: string (nullable = true)\n",
      " |-- Body Style: string (nullable = true)\n",
      " |-- Color: string (nullable = true)\n",
      " |-- Location: string (nullable = true)\n",
      " |-- Route: string (nullable = true)\n",
      " |-- Agency: string (nullable = true)\n",
      " |-- Violation code: string (nullable = true)\n",
      " |-- Violation Description: string (nullable = true)\n",
      " |-- Fine amount: string (nullable = true)\n",
      " |-- Latitude: string (nullable = true)\n",
      " |-- Longitude: string (nullable = true)\n",
      " |-- Agency Description: string (nullable = true)\n",
      " |-- Color Description: string (nullable = true)\n",
      " |-- Body Style Description: string (nullable = true)\n",
      "\n"
     ]
    }
   ],
   "source": [
    "#getting the schema info from the dataframe\n",
    "df.printSchema()"
   ]
  },
  {
   "cell_type": "code",
   "execution_count": 11,
   "id": "1adfc9c0-0e17-42ba-aae8-d93aae7405fb",
   "metadata": {},
   "outputs": [
    {
     "name": "stderr",
     "output_type": "stream",
     "text": [
      "[Stage 5:=================================================>       (14 + 2) / 16]"
     ]
    },
    {
     "name": "stdout",
     "output_type": "stream",
     "text": [
      "Total Rows: 13079582\n",
      "Total Cols: 22\n"
     ]
    },
    {
     "name": "stderr",
     "output_type": "stream",
     "text": [
      "                                                                                "
     ]
    }
   ],
   "source": [
    "# Count total number of rows\n",
    "print(f\"Total Rows: {df.count()}\")\n",
    "\n",
    "# Maximum rows in excel: 1,048,576\n",
    "# https://support.office.com/en-us/article/excel-specifications-and-limits-1672b34d-7043-467e-8e27-269d656771c3\n",
    "\n",
    "# Count the total number of columns\n",
    "print(f\"Total Cols: {len(df.columns)}\")"
   ]
  },
  {
   "cell_type": "code",
   "execution_count": 12,
   "id": "fa74a135-0147-4221-af51-bca42bea4cf4",
   "metadata": {},
   "outputs": [
    {
     "data": {
      "text/plain": [
       "16"
      ]
     },
     "execution_count": 12,
     "metadata": {},
     "output_type": "execute_result"
    }
   ],
   "source": [
    "df.rdd.getNumPartitions()"
   ]
  }
 ],
 "metadata": {
  "kernelspec": {
   "display_name": "Python 3 (ipykernel)",
   "language": "python",
   "name": "python3"
  },
  "language_info": {
   "codemirror_mode": {
    "name": "ipython",
    "version": 3
   },
   "file_extension": ".py",
   "mimetype": "text/x-python",
   "name": "python",
   "nbconvert_exporter": "python",
   "pygments_lexer": "ipython3",
   "version": "3.10.12"
  }
 },
 "nbformat": 4,
 "nbformat_minor": 5
}
