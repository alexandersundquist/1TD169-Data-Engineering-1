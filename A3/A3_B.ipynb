{
 "cells": [
  {
   "cell_type": "markdown",
   "id": "b111df9e-2987-4c85-817f-5652fc71381b",
   "metadata": {},
   "source": [
    "# A3 Section B - Working with DataFrames and SQL"
   ]
  },
  {
   "cell_type": "code",
   "execution_count": 1,
   "id": "9d2263dc-2be7-48bc-baad-1c8a847f9a1b",
   "metadata": {},
   "outputs": [],
   "source": [
    "import numpy as np # linear algebra\n",
    "import pandas as pd # data processing, CSV file I/O (e.g. pd.read_csv)"
   ]
  },
  {
   "cell_type": "code",
   "execution_count": 2,
   "id": "2f044db9-6aee-42b3-aac7-6c13fbf81750",
   "metadata": {},
   "outputs": [],
   "source": [
    "import pyspark\n",
    "from pyspark import SparkConf, SparkContext\n",
    "from pyspark.sql import SparkSession, SQLContext\n",
    "from pyspark.sql.types import *\n",
    "from pyspark.sql.functions import *"
   ]
  },
  {
   "cell_type": "code",
   "execution_count": 3,
   "id": "d8cc3716-b0a1-4dfb-a3d1-eed30066f3f7",
   "metadata": {},
   "outputs": [],
   "source": [
    "# setting random seed for notebook reproducability\n",
    "rnd_seed=23\n",
    "np.random.seed=rnd_seed\n",
    "np.random.set_state=rnd_seed"
   ]
  },
  {
   "cell_type": "code",
   "execution_count": 4,
   "id": "0d17c092-5b16-43dc-b07c-6a98cf20919b",
   "metadata": {},
   "outputs": [
    {
     "name": "stderr",
     "output_type": "stream",
     "text": [
      "Setting default log level to \"WARN\".\n",
      "To adjust logging level use sc.setLogLevel(newLevel). For SparkR, use setLogLevel(newLevel).\n",
      "25/03/07 10:02:38 WARN NativeCodeLoader: Unable to load native-hadoop library for your platform... using builtin-java classes where applicable\n",
      "25/03/07 10:02:38 WARN Utils: Service 'sparkDriver' could not bind on port 9999. Attempting port 10000.\n",
      "25/03/07 10:02:39 WARN StandaloneSchedulerBackend: Dynamic allocation enabled without spark.executor.cores explicitly set, you may get more executors allocated than expected. It's recommended to set spark.executor.cores explicitly. Please check SPARK-30299 for more details.\n"
     ]
    }
   ],
   "source": [
    "spark_session = SparkSession.builder \\\n",
    "   .master(\"spark://192.168.2.156:7077\") \\\n",
    "   .appName(\"alexander_sundquist_A3_B\") \\\n",
    "   .config(\"spark.dynamicAllocation.enabled\", True) \\\n",
    "   .config(\"spark.dynamicAllocation.shuffleTracking.enabled\", True) \\\n",
    "   .config(\"spark.shuffle.service.enabled\", False) \\\n",
    "   .config(\"spark.dynamicAllocation.executorIdleTimeout\", \"30s\") \\\n",
    "   .config(\"spark.cores.max\", 8) \\\n",
    "   .config(\"spark.driver.port\",9999)\\\n",
    "   .config(\"spark.blockManager.port\",10005)\\\n",
    "   .getOrCreate() \n",
    "\n",
    "spark_context = spark_session.sparkContext\n",
    "spark_context.setLogLevel(\"ERROR\")"
   ]
  },
  {
   "cell_type": "code",
   "execution_count": 5,
   "id": "6ab3a85e-790d-4c53-be9f-2008f7b6d1ca",
   "metadata": {},
   "outputs": [
    {
     "name": "stderr",
     "output_type": "stream",
     "text": [
      "/home/ubuntu/.local/lib/python3.10/site-packages/pyspark/sql/context.py:113: FutureWarning: Deprecated in 3.0.0. Use SparkSession.builder.getOrCreate() instead.\n",
      "  warnings.warn(\n"
     ]
    },
    {
     "data": {
      "text/plain": [
       "<pyspark.sql.context.SQLContext at 0x7f7ea1779fc0>"
      ]
     },
     "execution_count": 5,
     "metadata": {},
     "output_type": "execute_result"
    }
   ],
   "source": [
    "sqlContext = SQLContext(spark_session.sparkContext)\n",
    "sqlContext"
   ]
  },
  {
   "cell_type": "code",
   "execution_count": 6,
   "id": "3ab6c591-be01-46d4-a9b7-00d9848235f2",
   "metadata": {},
   "outputs": [
    {
     "name": "stderr",
     "output_type": "stream",
     "text": [
      "                                                                                "
     ]
    }
   ],
   "source": [
    "#Loading Data to dataframe, store in cache memory to increase speed\n",
    "df = sqlContext.read.csv(\"hdfs://192.168.2.156:9000/data/los-angeles-parking-citations\", header=\"true\", inferSchema=\"true\").cache()"
   ]
  },
  {
   "cell_type": "code",
   "execution_count": 7,
   "id": "94111af0-8199-41a4-95fb-b914a00c3f96",
   "metadata": {},
   "outputs": [
    {
     "name": "stderr",
     "output_type": "stream",
     "text": [
      "[Stage 2:=====================================================>   (15 + 1) / 16]"
     ]
    },
    {
     "name": "stdout",
     "output_type": "stream",
     "text": [
      "+-------------+--------------------+----------+--------+-----------+--------------+-----------------+----+----+----------+-----+------------------+-----+------+--------------+---------------------+-----------+---------+---------+------------------+-----------------+----------------------+\n",
      "|Ticket number|          Issue Date|Issue time|Meter Id|Marked Time|RP State Plate|Plate Expiry Date| VIN|Make|Body Style|Color|          Location|Route|Agency|Violation code|Violation Description|Fine amount| Latitude|Longitude|Agency Description|Color Description|Body Style Description|\n",
      "+-------------+--------------------+----------+--------+-----------+--------------+-----------------+----+----+----------+-----+------------------+-----+------+--------------+---------------------+-----------+---------+---------+------------------+-----------------+----------------------+\n",
      "|   1103341116|2015-12-21T00:00:...|      1251|    NULL|       NULL|            CA|           200304|NULL|HOND|        PA|   GY|   13147 WELBY WAY|01521|     1|        4000A1|   NO EVIDENCE OF REG|         50|    99999|    99999|              NULL|             NULL|                  NULL|\n",
      "|   1103700150|2015-12-21T00:00:...|      1435|    NULL|       NULL|            CA|           201512|NULL| GMC|        VN|   WH|     525 S MAIN ST| 1C51|     1|        4000A1|   NO EVIDENCE OF REG|         50|    99999|    99999|              NULL|             NULL|                  NULL|\n",
      "|   1104803000|2015-12-21T00:00:...|      2055|    NULL|       NULL|            CA|           201503|NULL|NISS|        PA|   BK|     200 WORLD WAY|  2R2|     2|          8939|           WHITE CURB|         58|6439997.9|1802686.4|              NULL|             NULL|                  NULL|\n",
      "|   1104820732|2015-12-26T00:00:...|      1515|    NULL|       NULL|            CA|             NULL|NULL|ACUR|        PA|   WH|     100 WORLD WAY| 2F11|     2|           000|               17104h|       NULL|6440041.1|1802686.2|              NULL|             NULL|                  NULL|\n",
      "|   1105461453|2015-09-15T00:00:...|       115|    NULL|       NULL|            CA|           200316|NULL|CHEV|        PA|   BK|GEORGIA ST/OLYMPIC|1FB70|     1|         8069A| NO STOPPING/STANDING|         93|    99999|    99999|              NULL|             NULL|                  NULL|\n",
      "|   1106226590|2015-09-15T00:00:...|        19|    NULL|       NULL|            CA|           201507|NULL|CHEV|        VN|   GY|SAN PEDRO S/O BOYD|1A35W|     1|        4000A1|   NO EVIDENCE OF REG|         50|    99999|    99999|              NULL|             NULL|                  NULL|\n",
      "|   1106500452|2015-12-17T00:00:...|      1710|    NULL|       NULL|            CA|           201605|NULL|MAZD|        PA|   BL|   SUNSET/ALVARADO|00217|     1|          8070| PARK IN GRID LOCK ZN|        163|    99999|    99999|              NULL|             NULL|                  NULL|\n",
      "|   1106500463|2015-12-17T00:00:...|      1710|    NULL|       NULL|            CA|           201602|NULL|TOYO|        PA|   BK|   SUNSET/ALVARADO|00217|     1|          8070| PARK IN GRID LOCK ZN|        163|    99999|    99999|              NULL|             NULL|                  NULL|\n",
      "|   1106506402|2015-12-22T00:00:...|       945|    NULL|       NULL|            CA|           201605|NULL|CHEV|        PA|   BR|    721 S WESTLAKE| 2A75|     1|        8069AA|     NO STOP/STAND AM|         93|    99999|    99999|              NULL|             NULL|                  NULL|\n",
      "|   1106506413|2015-12-22T00:00:...|      1100|    NULL|       NULL|            CA|           201701|NULL|NISS|        PA|   SI|   1159 HUNTLEY DR| 2A75|     1|        8069AA|     NO STOP/STAND AM|         93|    99999|    99999|              NULL|             NULL|                  NULL|\n",
      "+-------------+--------------------+----------+--------+-----------+--------------+-----------------+----+----+----------+-----+------------------+-----+------+--------------+---------------------+-----------+---------+---------+------------------+-----------------+----------------------+\n",
      "only showing top 10 rows\n",
      "\n"
     ]
    },
    {
     "name": "stderr",
     "output_type": "stream",
     "text": [
      "                                                                                "
     ]
    }
   ],
   "source": [
    "df.show(10)"
   ]
  },
  {
   "cell_type": "code",
   "execution_count": 8,
   "id": "b11ffbba-95a7-418e-ac39-c04f945bb6d4",
   "metadata": {},
   "outputs": [
    {
     "name": "stdout",
     "output_type": "stream",
     "text": [
      "root\n",
      " |-- Ticket number: string (nullable = true)\n",
      " |-- Issue Date: string (nullable = true)\n",
      " |-- Issue time: string (nullable = true)\n",
      " |-- Meter Id: string (nullable = true)\n",
      " |-- Marked Time: string (nullable = true)\n",
      " |-- RP State Plate: string (nullable = true)\n",
      " |-- Plate Expiry Date: string (nullable = true)\n",
      " |-- VIN: string (nullable = true)\n",
      " |-- Make: string (nullable = true)\n",
      " |-- Body Style: string (nullable = true)\n",
      " |-- Color: string (nullable = true)\n",
      " |-- Location: string (nullable = true)\n",
      " |-- Route: string (nullable = true)\n",
      " |-- Agency: string (nullable = true)\n",
      " |-- Violation code: string (nullable = true)\n",
      " |-- Violation Description: string (nullable = true)\n",
      " |-- Fine amount: string (nullable = true)\n",
      " |-- Latitude: string (nullable = true)\n",
      " |-- Longitude: string (nullable = true)\n",
      " |-- Agency Description: string (nullable = true)\n",
      " |-- Color Description: string (nullable = true)\n",
      " |-- Body Style Description: string (nullable = true)\n",
      "\n"
     ]
    }
   ],
   "source": [
    "#getting the schema info from the dataframe\n",
    "df.printSchema()"
   ]
  },
  {
   "cell_type": "code",
   "execution_count": 9,
   "id": "1adfc9c0-0e17-42ba-aae8-d93aae7405fb",
   "metadata": {},
   "outputs": [
    {
     "name": "stderr",
     "output_type": "stream",
     "text": [
      "[Stage 4:=================================================>       (14 + 2) / 16]"
     ]
    },
    {
     "name": "stdout",
     "output_type": "stream",
     "text": [
      "Total Rows: 13079582\n",
      "Total Cols: 22\n"
     ]
    },
    {
     "name": "stderr",
     "output_type": "stream",
     "text": [
      "                                                                                "
     ]
    }
   ],
   "source": [
    "# Count total number of rows\n",
    "print(f\"Total Rows: {df.count()}\")\n",
    "\n",
    "# Maximum rows in excel: 1,048,576\n",
    "# https://support.office.com/en-us/article/excel-specifications-and-limits-1672b34d-7043-467e-8e27-269d656771c3\n",
    "\n",
    "# Count the total number of columns\n",
    "print(f\"Total Cols: {len(df.columns)}\")"
   ]
  },
  {
   "cell_type": "code",
   "execution_count": 10,
   "id": "fa74a135-0147-4221-af51-bca42bea4cf4",
   "metadata": {},
   "outputs": [
    {
     "data": {
      "text/plain": [
       "16"
      ]
     },
     "execution_count": 10,
     "metadata": {},
     "output_type": "execute_result"
    }
   ],
   "source": [
    "df.rdd.getNumPartitions()"
   ]
  },
  {
   "cell_type": "code",
   "execution_count": 11,
   "id": "aa2bda7a-949a-4c3f-a5c7-88c90737edc3",
   "metadata": {},
   "outputs": [
    {
     "name": "stdout",
     "output_type": "stream",
     "text": [
      "root\n",
      " |-- Ticket number: string (nullable = true)\n",
      " |-- Issue Date: string (nullable = true)\n",
      " |-- Issue time: string (nullable = true)\n",
      " |-- Meter Id: string (nullable = true)\n",
      " |-- Marked Time: string (nullable = true)\n",
      " |-- RP State Plate: string (nullable = true)\n",
      " |-- Plate Expiry Date: string (nullable = true)\n",
      " |-- Make: string (nullable = true)\n",
      " |-- Body Style: string (nullable = true)\n",
      " |-- Color: string (nullable = true)\n",
      " |-- Location: string (nullable = true)\n",
      " |-- Route: string (nullable = true)\n",
      " |-- Agency: string (nullable = true)\n",
      " |-- Violation code: string (nullable = true)\n",
      " |-- Violation Description: string (nullable = true)\n",
      " |-- Fine amount: string (nullable = true)\n",
      " |-- Agency Description: string (nullable = true)\n",
      " |-- Color Description: string (nullable = true)\n",
      " |-- Body Style Description: string (nullable = true)\n",
      "\n"
     ]
    }
   ],
   "source": [
    "df1 = df.drop('Vin', 'Longitude', 'Latitude')\n",
    "df1.printSchema()"
   ]
  },
  {
   "cell_type": "markdown",
   "id": "862b619c-400f-469c-b9a0-22e892b44375",
   "metadata": {},
   "source": [
    "## B.6"
   ]
  },
  {
   "cell_type": "code",
   "execution_count": 12,
   "id": "27490191-1f13-4a38-8e91-b61afd4c147d",
   "metadata": {},
   "outputs": [
    {
     "name": "stdout",
     "output_type": "stream",
     "text": [
      "root\n",
      " |-- Ticket number: string (nullable = true)\n",
      " |-- Issue Date: string (nullable = true)\n",
      " |-- Issue time: string (nullable = true)\n",
      " |-- Meter Id: string (nullable = true)\n",
      " |-- Marked Time: string (nullable = true)\n",
      " |-- RP State Plate: string (nullable = true)\n",
      " |-- Plate Expiry Date: string (nullable = true)\n",
      " |-- Make: string (nullable = true)\n",
      " |-- Body Style: string (nullable = true)\n",
      " |-- Color: string (nullable = true)\n",
      " |-- Location: string (nullable = true)\n",
      " |-- Route: string (nullable = true)\n",
      " |-- Agency: string (nullable = true)\n",
      " |-- Violation code: string (nullable = true)\n",
      " |-- Violation Description: string (nullable = true)\n",
      " |-- Fine amount: float (nullable = true)\n",
      " |-- Agency Description: string (nullable = true)\n",
      " |-- Color Description: string (nullable = true)\n",
      " |-- Body Style Description: string (nullable = true)\n",
      "\n"
     ]
    }
   ],
   "source": [
    "# Convert fine amount to float\n",
    "df1 = df1.withColumn('Fine amount',df1['Fine amount'].cast(\"float\").alias('Fine amount'))\n",
    "df1.printSchema()"
   ]
  },
  {
   "cell_type": "code",
   "execution_count": 13,
   "id": "1f23491c-6435-4b15-84ce-0dd381178f4f",
   "metadata": {},
   "outputs": [
    {
     "name": "stderr",
     "output_type": "stream",
     "text": [
      "[Stage 7:==========================================>              (12 + 4) / 16]"
     ]
    },
    {
     "name": "stdout",
     "output_type": "stream",
     "text": [
      "1100.0\n"
     ]
    },
    {
     "name": "stderr",
     "output_type": "stream",
     "text": [
      "                                                                                "
     ]
    }
   ],
   "source": [
    "# Find maximum fine amount\n",
    "row1 = df1.agg({\"Fine amount\": \"max\"}).collect()[0]\n",
    "print(row1[\"max(Fine amount)\"])"
   ]
  },
  {
   "cell_type": "code",
   "execution_count": 14,
   "id": "3ea4d737-278e-4976-803d-6786c43b178d",
   "metadata": {},
   "outputs": [
    {
     "name": "stdout",
     "output_type": "stream",
     "text": [
      "root\n",
      " |-- fine_amount: float (nullable = true)\n",
      "\n"
     ]
    }
   ],
   "source": [
    "df2 = df1.select(col(\"Fine amount\").alias(\"fine_amount\"))\n",
    "df2.printSchema()"
   ]
  },
  {
   "cell_type": "code",
   "execution_count": 15,
   "id": "bf46400d-ef38-4a1e-b782-ad3901304d9d",
   "metadata": {},
   "outputs": [
    {
     "name": "stderr",
     "output_type": "stream",
     "text": [
      "[Stage 10:======================================>                 (11 + 5) / 16]"
     ]
    },
    {
     "name": "stdout",
     "output_type": "stream",
     "text": [
      "+-----------+-------+\n",
      "|fine_amount|  count|\n",
      "+-----------+-------+\n",
      "|       58.0| 994710|\n",
      "|      105.0|    824|\n",
      "|      163.0| 153489|\n",
      "|      143.0|    530|\n",
      "|      255.0|     36|\n",
      "|       NULL|  75329|\n",
      "|      293.0|  18770|\n",
      "|      345.0|     43|\n",
      "|       55.0|    143|\n",
      "|       10.0|    172|\n",
      "|      505.0|      6|\n",
      "|       53.0|    929|\n",
      "|       68.0|1938725|\n",
      "|      128.0|   1062|\n",
      "|       40.0|    295|\n",
      "|      133.0|   9684|\n",
      "|      363.0|  87596|\n",
      "|       35.0|    270|\n",
      "|       50.0| 138041|\n",
      "|       78.0|  38642|\n",
      "+-----------+-------+\n",
      "only showing top 20 rows\n",
      "\n"
     ]
    },
    {
     "name": "stderr",
     "output_type": "stream",
     "text": [
      "                                                                                "
     ]
    }
   ],
   "source": [
    "# Count occurence of max value (1100.0)\n",
    "df2.groupBy('fine_amount').count().show() \n"
   ]
  },
  {
   "cell_type": "code",
   "execution_count": 16,
   "id": "6a48b2ab-bc77-4d34-8bc1-4f3625d67bd9",
   "metadata": {},
   "outputs": [
    {
     "name": "stderr",
     "output_type": "stream",
     "text": [
      "[Stage 13:==========================================>             (12 + 4) / 16]"
     ]
    },
    {
     "name": "stdout",
     "output_type": "stream",
     "text": [
      "Number of tickets of value 1100.0 given out: 626\n"
     ]
    },
    {
     "name": "stderr",
     "output_type": "stream",
     "text": [
      "                                                                                "
     ]
    }
   ],
   "source": [
    "nmbr_1100_tickets = df2.filter(df2.fine_amount=='1100.0').count()\n",
    "print(f'Number of tickets of value 1100.0 given out: {nmbr_1100_tickets}')"
   ]
  },
  {
   "cell_type": "markdown",
   "id": "6e6e9171-37fa-4136-a7f0-c2e2473c1798",
   "metadata": {},
   "source": [
    "## B.7"
   ]
  },
  {
   "cell_type": "code",
   "execution_count": 17,
   "id": "dbaffb44-b01a-496d-a3c5-f36e09a484bb",
   "metadata": {},
   "outputs": [
    {
     "name": "stderr",
     "output_type": "stream",
     "text": [
      "[Stage 16:======================================>                 (11 + 5) / 16]"
     ]
    },
    {
     "name": "stdout",
     "output_type": "stream",
     "text": [
      "+----+------+\n",
      "|Make| count|\n",
      "+----+------+\n",
      "|CARS|    44|\n",
      "|FRET|     5|\n",
      "|WINN|  3007|\n",
      "|LIBE|    12|\n",
      "|ARRW|     2|\n",
      "|MERK|   946|\n",
      "| SBT|     2|\n",
      "|MUNI|     5|\n",
      "|DRLN|     6|\n",
      "|VELO|     6|\n",
      "|ZIEM|    20|\n",
      "| APR|     1|\n",
      "|CMPI|     1|\n",
      "| WAB|     4|\n",
      "|PREL|     1|\n",
      "|DAWE|     2|\n",
      "|BRAU|     2|\n",
      "|FRWS|     6|\n",
      "|DODG|391686|\n",
      "|DUES|    84|\n",
      "+----+------+\n",
      "only showing top 20 rows\n",
      "\n"
     ]
    },
    {
     "name": "stderr",
     "output_type": "stream",
     "text": [
      "                                                                                "
     ]
    }
   ],
   "source": [
    "df1.groupBy('Make').count().show()"
   ]
  },
  {
   "cell_type": "code",
   "execution_count": 18,
   "id": "167a9960-50b1-4d00-99f3-a5d1874378c1",
   "metadata": {},
   "outputs": [
    {
     "name": "stderr",
     "output_type": "stream",
     "text": [
      "[Stage 19:======================================>                 (11 + 5) / 16]"
     ]
    },
    {
     "name": "stdout",
     "output_type": "stream",
     "text": [
      "+-----------+\n",
      "|mode(count)|\n",
      "+-----------+\n",
      "|          1|\n",
      "+-----------+\n",
      "\n"
     ]
    },
    {
     "name": "stderr",
     "output_type": "stream",
     "text": [
      "                                                                                "
     ]
    }
   ],
   "source": [
    "df1.groupby(\"Make\").count().agg(mode(\"count\")).show()\n"
   ]
  },
  {
   "cell_type": "code",
   "execution_count": 19,
   "id": "d601ae6a-9385-4663-92ad-6c230fc01b88",
   "metadata": {},
   "outputs": [
    {
     "name": "stderr",
     "output_type": "stream",
     "text": [
      "[Stage 25:==========================================>             (12 + 4) / 16]"
     ]
    },
    {
     "name": "stdout",
     "output_type": "stream",
     "text": [
      "+----+-----------+\n",
      "|Make|make_counts|\n",
      "+----+-----------+\n",
      "|TOYT|    2150768|\n",
      "|HOND|    1479996|\n",
      "|FORD|    1116235|\n",
      "|NISS|     945133|\n",
      "|CHEV|     892676|\n",
      "| BMW|     603092|\n",
      "|MERZ|     543298|\n",
      "|VOLK|     432030|\n",
      "|HYUN|     404917|\n",
      "|DODG|     391686|\n",
      "|LEXS|     368420|\n",
      "| KIA|     328155|\n",
      "|JEEP|     316300|\n",
      "|AUDI|     255395|\n",
      "|MAZD|     242344|\n",
      "|OTHR|     205546|\n",
      "| GMC|     184889|\n",
      "|INFI|     174315|\n",
      "|CHRY|     159948|\n",
      "|SUBA|     154640|\n",
      "+----+-----------+\n",
      "only showing top 20 rows\n",
      "\n"
     ]
    },
    {
     "name": "stderr",
     "output_type": "stream",
     "text": [
      "                                                                                "
     ]
    }
   ],
   "source": [
    "df1.groupBy('Make').agg(count('Make').alias('make_counts')).orderBy(col('make_counts').desc()).show(20)"
   ]
  },
  {
   "cell_type": "code",
   "execution_count": 20,
   "id": "31c7646c-22b1-4b57-8dad-9b3eb8ceaec5",
   "metadata": {},
   "outputs": [
    {
     "name": "stderr",
     "output_type": "stream",
     "text": [
      "[Stage 28:=============================================>          (13 + 3) / 16]"
     ]
    },
    {
     "name": "stdout",
     "output_type": "stream",
     "text": [
      "+----+-------+\n",
      "|Make|  count|\n",
      "+----+-------+\n",
      "|TOYT|2150768|\n",
      "|HOND|1479996|\n",
      "|FORD|1116235|\n",
      "|NISS| 945133|\n",
      "|CHEV| 892676|\n",
      "| BMW| 603092|\n",
      "|MERZ| 543298|\n",
      "|VOLK| 432030|\n",
      "|HYUN| 404917|\n",
      "|DODG| 391686|\n",
      "|LEXS| 368420|\n",
      "| KIA| 328155|\n",
      "|JEEP| 316300|\n",
      "|AUDI| 255395|\n",
      "|MAZD| 242344|\n",
      "|OTHR| 205546|\n",
      "| GMC| 184889|\n",
      "|INFI| 174315|\n",
      "|CHRY| 159948|\n",
      "|SUBA| 154640|\n",
      "+----+-------+\n",
      "only showing top 20 rows\n",
      "\n"
     ]
    },
    {
     "name": "stderr",
     "output_type": "stream",
     "text": [
      "                                                                                "
     ]
    }
   ],
   "source": [
    "df1.groupBy('Make').count().orderBy(col('count').desc()).show(20)"
   ]
  },
  {
   "cell_type": "markdown",
   "id": "cecf08bb-c52e-4098-b7e2-8b6011725fab",
   "metadata": {},
   "source": [
    "## B.8"
   ]
  },
  {
   "cell_type": "code",
   "execution_count": 21,
   "id": "e611e3aa-49c4-44e4-8c27-e56c0efb1d68",
   "metadata": {},
   "outputs": [
    {
     "name": "stderr",
     "output_type": "stream",
     "text": [
      "[Stage 31:======================================>                 (11 + 5) / 16]"
     ]
    },
    {
     "name": "stdout",
     "output_type": "stream",
     "text": [
      "+-----+-------+\n",
      "|Color|  count|\n",
      "+-----+-------+\n",
      "|   PU|   1049|\n",
      "|   SL|1604134|\n",
      "|   PI|    171|\n",
      "|   RE|  41282|\n",
      "|   PL|     49|\n",
      "|   OR|  38121|\n",
      "|   OL|     14|\n",
      "|   GO| 159723|\n",
      "|   BU|   3635|\n",
      "|   RU|    185|\n",
      "|   LI|      1|\n",
      "| NULL|  37193|\n",
      "|   TU|   5872|\n",
      "|   BN| 234905|\n",
      "|   WI|      8|\n",
      "|   PK|   1998|\n",
      "|   SA|     17|\n",
      "|   BL|1007674|\n",
      "|   YE|  50253|\n",
      "|   BR|   8524|\n",
      "+-----+-------+\n",
      "only showing top 20 rows\n",
      "\n"
     ]
    },
    {
     "name": "stderr",
     "output_type": "stream",
     "text": [
      "                                                                                "
     ]
    }
   ],
   "source": [
    "df1.groupBy('Color').count().show()"
   ]
  },
  {
   "cell_type": "code",
   "execution_count": 22,
   "id": "abc6601e-2682-43ed-bc54-ae47f6544ffa",
   "metadata": {},
   "outputs": [],
   "source": [
    "COLORS = { \n",
    "'AL': 'Aluminum', 'AM': 'Amber', 'BG': 'Beige', 'BK': 'Black',  \n",
    "'BL': 'Blue', 'BN': 'Brown', 'BR': 'Brown', 'BZ': 'Bronze',  \n",
    "'CH': 'Charcoal', 'DK': 'Dark', 'GD': 'Gold', 'GO': 'Gold',  \n",
    "'GN': 'Green', 'GY': 'Gray', 'GT': 'Granite', 'IV': 'Ivory',  \n",
    "'LT': 'Light', 'OL': 'Olive', 'OR': 'Orange', 'MR': 'Maroon',  \n",
    "'PK': 'Pink', 'RD': 'Red', 'RE': 'Red', 'SI': 'Silver', 'SL': 'Silver',  \n",
    "'SM': 'Smoke', 'TN': 'Tan', 'VT': 'Violet', 'WT': 'White', 'WH': 'White',  \n",
    "'YL': 'Yellow', 'YE': 'Yellow', 'UN': 'Unknown' \n",
    "} "
   ]
  },
  {
   "cell_type": "code",
   "execution_count": 36,
   "id": "3892a554-8d86-407f-b7ac-39f1ba9b8a02",
   "metadata": {},
   "outputs": [],
   "source": [
    "def color_mapping(color):\n",
    "    return COLORS.get(color, color)\n",
    "    \n",
    "\n",
    "mapColorUDF = udf(lambda x: color_mapping(x))\n",
    "\n",
    "df1 = df1.withColumn('color_long', mapColorUDF(col('color')))"
   ]
  },
  {
   "cell_type": "code",
   "execution_count": 37,
   "id": "ae635330-ea29-485a-ab39-902428c103e7",
   "metadata": {},
   "outputs": [
    {
     "name": "stdout",
     "output_type": "stream",
     "text": [
      "+-----+----------+\n",
      "|color|color_long|\n",
      "+-----+----------+\n",
      "|   GY|      Gray|\n",
      "|   WH|     White|\n",
      "|   BK|     Black|\n",
      "|   WH|     White|\n",
      "|   BK|     Black|\n",
      "|   GY|      Gray|\n",
      "|   BL|      Blue|\n",
      "|   BK|     Black|\n",
      "|   BR|     Brown|\n",
      "|   SI|    Silver|\n",
      "+-----+----------+\n",
      "only showing top 10 rows\n",
      "\n"
     ]
    }
   ],
   "source": [
    "df1.select('color', 'color_long').show(10)"
   ]
  },
  {
   "cell_type": "markdown",
   "id": "8bc0be34-7b14-4374-b6cc-77bee31c1219",
   "metadata": {},
   "source": [
    "## B.9"
   ]
  },
  {
   "cell_type": "code",
   "execution_count": 38,
   "id": "13f81319-07e0-4693-9804-1f0995f8cd47",
   "metadata": {},
   "outputs": [
    {
     "data": {
      "text/plain": [
       "DataFrame[color_long: string, Make: string, count: bigint]"
      ]
     },
     "execution_count": 38,
     "metadata": {},
     "output_type": "execute_result"
    }
   ],
   "source": [
    "df1.groupBy('color_long','Make').count()"
   ]
  },
  {
   "cell_type": "code",
   "execution_count": 41,
   "id": "891f7637-d94c-48d7-89aa-23bbbf69339a",
   "metadata": {},
   "outputs": [
    {
     "name": "stderr",
     "output_type": "stream",
     "text": [
      "[Stage 44:====================================================>   (15 + 1) / 16]"
     ]
    },
    {
     "name": "stdout",
     "output_type": "stream",
     "text": [
      "+----------+------+\n",
      "|color_long| count|\n",
      "+----------+------+\n",
      "|      Gray|489697|\n",
      "|     White|434595|\n",
      "|     Black|353812|\n",
      "|    Silver|347894|\n",
      "|      Blue|180091|\n",
      "|       Red|119074|\n",
      "|     Green| 74968|\n",
      "|      Gold| 40646|\n",
      "|    Maroon| 26242|\n",
      "|       Tan| 23355|\n",
      "+----------+------+\n",
      "only showing top 10 rows\n",
      "\n"
     ]
    },
    {
     "name": "stderr",
     "output_type": "stream",
     "text": [
      "                                                                                "
     ]
    }
   ],
   "source": [
    "df1.where(df1.Make=='TOYT').groupBy('color_long').count().orderBy(col('count').desc()).show(10)"
   ]
  }
 ],
 "metadata": {
  "kernelspec": {
   "display_name": "Python 3 (ipykernel)",
   "language": "python",
   "name": "python3"
  },
  "language_info": {
   "codemirror_mode": {
    "name": "ipython",
    "version": 3
   },
   "file_extension": ".py",
   "mimetype": "text/x-python",
   "name": "python",
   "nbconvert_exporter": "python",
   "pygments_lexer": "ipython3",
   "version": "3.10.12"
  }
 },
 "nbformat": 4,
 "nbformat_minor": 5
}
