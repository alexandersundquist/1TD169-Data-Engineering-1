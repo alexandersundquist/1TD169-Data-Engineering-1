{
 "cells": [
  {
   "cell_type": "markdown",
   "id": "b662749d-f773-401f-8828-2155349e38c1",
   "metadata": {},
   "source": [
    "# A1"
   ]
  },
  {
   "cell_type": "code",
   "execution_count": 1,
   "id": "2a2d234e-f6eb-48b7-a916-135286df75cc",
   "metadata": {},
   "outputs": [
    {
     "name": "stderr",
     "output_type": "stream",
     "text": [
      "Setting default log level to \"WARN\".\n",
      "To adjust logging level use sc.setLogLevel(newLevel). For SparkR, use setLogLevel(newLevel).\n",
      "25/03/05 12:30:41 WARN NativeCodeLoader: Unable to load native-hadoop library for your platform... using builtin-java classes where applicable\n",
      "25/03/05 12:30:42 WARN Utils: Service 'sparkDriver' could not bind on port 9999. Attempting port 10000.\n",
      "25/03/05 12:30:43 WARN StandaloneSchedulerBackend: Dynamic allocation enabled without spark.executor.cores explicitly set, you may get more executors allocated than expected. It's recommended to set spark.executor.cores explicitly. Please check SPARK-30299 for more details.\n"
     ]
    }
   ],
   "source": [
    "from pyspark.sql import SparkSession \n",
    "spark_session = SparkSession.builder \\\n",
    "   .master(\"spark://192.168.2.156:7077\") \\\n",
    "   .appName(\"alexanderSundquist_A1\") \\\n",
    "   .config(\"spark.dynamicAllocation.enabled\", True) \\\n",
    "   .config(\"spark.dynamicAllocation.shuffleTracking.enabled\", True) \\\n",
    "   .config(\"spark.shuffle.service.enabled\", False) \\\n",
    "   .config(\"spark.dynamicAllocation.executorIdleTimeout\", \"30s\") \\\n",
    "   .config(\"spark.cores.max\", 2) \\\n",
    "   .config(\"spark.driver.port\",9999)\\\n",
    "   .config(\"spark.blockManager.port\",10005)\\\n",
    "   .getOrCreate() "
   ]
  },
  {
   "cell_type": "code",
   "execution_count": 3,
   "id": "011ac85d-d754-4c75-844a-3d53d2441fc8",
   "metadata": {},
   "outputs": [],
   "source": [
    "# RDD API\n",
    "spark_context = spark_session.sparkContext\n",
    "spark_context.setLogLevel(\"ERROR\")"
   ]
  },
  {
   "cell_type": "code",
   "execution_count": 4,
   "id": "35f4b84f-e624-4907-93e0-3c25168cd731",
   "metadata": {},
   "outputs": [],
   "source": [
    "# Read Swedish and its English counterpart from HDFS\n",
    "en_file = spark_context.textFile(\"hdfs://192.168.2.156:9000/data/europarl/europarl-v7.sv-en.en\")\n",
    "sv_file = spark_context.textFile(\"hdfs://192.168.2.156:9000/data/europarl/europarl-v7.sv-en.sv\")"
   ]
  },
  {
   "cell_type": "code",
   "execution_count": 4,
   "id": "7b49c981-caf5-49cc-8cd1-b19c8243b736",
   "metadata": {},
   "outputs": [
    {
     "name": "stderr",
     "output_type": "stream",
     "text": [
      "                                                                                "
     ]
    },
    {
     "data": {
      "text/plain": [
       "'Resumption of the session'"
      ]
     },
     "execution_count": 4,
     "metadata": {},
     "output_type": "execute_result"
    }
   ],
   "source": [
    "en_file.first()"
   ]
  },
  {
   "cell_type": "code",
   "execution_count": 5,
   "id": "5d861f05-3f47-4340-a0cf-9ba92546103b",
   "metadata": {},
   "outputs": [
    {
     "name": "stderr",
     "output_type": "stream",
     "text": [
      "                                                                                "
     ]
    },
    {
     "data": {
      "text/plain": [
       "'Återupptagande av sessionen'"
      ]
     },
     "execution_count": 5,
     "metadata": {},
     "output_type": "execute_result"
    }
   ],
   "source": [
    "sv_file.first()"
   ]
  },
  {
   "cell_type": "code",
   "execution_count": 6,
   "id": "b4ec600e-8d7b-4115-bbe0-e0e0cc1ffe7e",
   "metadata": {},
   "outputs": [
    {
     "name": "stderr",
     "output_type": "stream",
     "text": [
      "                                                                                "
     ]
    },
    {
     "name": "stdout",
     "output_type": "stream",
     "text": [
      "Line count Swedish file 1862234\n"
     ]
    },
    {
     "name": "stderr",
     "output_type": "stream",
     "text": [
      "[Stage 3:=============================>                             (1 + 1) / 2]"
     ]
    },
    {
     "name": "stdout",
     "output_type": "stream",
     "text": [
      "Line count English file 1862234\n"
     ]
    },
    {
     "name": "stderr",
     "output_type": "stream",
     "text": [
      "                                                                                "
     ]
    }
   ],
   "source": [
    "print(\"Line count Swedish file\", sv_file.count())\n",
    "print(\"Line count English file\", en_file.count())"
   ]
  },
  {
   "cell_type": "code",
   "execution_count": 7,
   "id": "acf066ed-5cb0-4d08-8bee-6de11db25d1c",
   "metadata": {},
   "outputs": [
    {
     "data": {
      "text/plain": [
       "2"
      ]
     },
     "execution_count": 7,
     "metadata": {},
     "output_type": "execute_result"
    }
   ],
   "source": [
    "# Count number of partitions \n",
    "en_file.getNumPartitions()"
   ]
  },
  {
   "cell_type": "code",
   "execution_count": 8,
   "id": "44559f5d-4243-4174-9bf8-54f6e5925c40",
   "metadata": {},
   "outputs": [
    {
     "data": {
      "text/plain": [
       "3"
      ]
     },
     "execution_count": 8,
     "metadata": {},
     "output_type": "execute_result"
    }
   ],
   "source": [
    "sv_file.getNumPartitions()"
   ]
  },
  {
   "cell_type": "markdown",
   "id": "8c21fc46-92f5-4795-9041-42d9668aa35a",
   "metadata": {},
   "source": [
    "# A2"
   ]
  },
  {
   "cell_type": "code",
   "execution_count": 9,
   "id": "a2909bc1-7e1e-499f-8148-fbbcc7b7e89c",
   "metadata": {},
   "outputs": [
    {
     "name": "stderr",
     "output_type": "stream",
     "text": [
      "[Stage 4:>                                                          (0 + 1) / 1]"
     ]
    },
    {
     "name": "stdout",
     "output_type": "stream",
     "text": [
      "återupptagande av sessionen\n"
     ]
    },
    {
     "name": "stderr",
     "output_type": "stream",
     "text": [
      "                                                                                "
     ]
    }
   ],
   "source": [
    "first_line = sv_file.first()\n",
    "first_line_lower = first_line.lower()\n",
    "print(first_line_lower)"
   ]
  },
  {
   "cell_type": "code",
   "execution_count": 5,
   "id": "15f2e0e1-8b03-4278-a9e8-f7426bb059c7",
   "metadata": {},
   "outputs": [],
   "source": [
    "import re\n",
    "def remove_special_char(file):\n",
    "    return file.map(lambda line: re.sub(\"[^A-Za-z0-9 -åäöÅÄÖ]+\",'', line))"
   ]
  },
  {
   "cell_type": "code",
   "execution_count": 6,
   "id": "4096e1e2-ac77-48dd-a221-0f69b23a434e",
   "metadata": {},
   "outputs": [],
   "source": [
    "def lower_case(file):\n",
    "    return file.map(lambda line: line.lower())"
   ]
  },
  {
   "cell_type": "code",
   "execution_count": 7,
   "id": "922c956e-7727-47b4-babe-6357764ce940",
   "metadata": {},
   "outputs": [],
   "source": [
    "def tokenize(file):\n",
    "    return file.map(lambda line: line.split(\" \"))"
   ]
  },
  {
   "cell_type": "code",
   "execution_count": 8,
   "id": "8240622e-287d-4366-a20e-71b111714796",
   "metadata": {},
   "outputs": [],
   "source": [
    "sv_preprocessed = remove_special_char(sv_file)\n",
    "sv_preprocessed = lower_case(sv_preprocessed)\n",
    "sv_preprocessed = tokenize(sv_preprocessed)\n",
    "\n",
    "en_preprocessed = remove_special_char(en_file)\n",
    "en_preprocessed = lower_case(en_preprocessed)\n",
    "en_preprocessed = tokenize(en_preprocessed)"
   ]
  },
  {
   "cell_type": "code",
   "execution_count": 9,
   "id": "0c2bf31c-f950-4a82-9347-bd717bd3481e",
   "metadata": {},
   "outputs": [
    {
     "name": "stderr",
     "output_type": "stream",
     "text": [
      "                                                                                "
     ]
    },
    {
     "name": "stdout",
     "output_type": "stream",
     "text": [
      "Swedish preprocessed:  [['återupptagande', 'av', 'sessionen'], ['jag', 'förklarar', 'europaparlamentets', 'session', 'återupptagen', 'efter', 'avbrottet', 'den', '17', 'december.', 'jag', 'vill', 'på', 'nytt', 'önska', 'er', 'ett', 'gott', 'nytt', 'år', 'och', 'jag', 'hoppas', 'att', 'ni', 'haft', 'en', 'trevlig', 'semester.'], ['som', 'ni', 'kunnat', 'konstatera', 'ägde', '\"den', 'stora', 'år', '2000-buggen\"', 'aldrig', 'rum.', 'däremot', 'har', 'invånarna', 'i', 'ett', 'antal', 'av', 'våra', 'medlemsländer', 'drabbats', 'av', 'naturkatastrofer', 'som', 'verkligen', 'varit', 'förskräckliga.'], ['ni', 'har', 'begärt', 'en', 'debatt', 'i', 'ämnet', 'under', 'sammanträdesperiodens', 'kommande', 'dagar.'], ['till', 'dess', 'vill', 'jag', 'att', 'vi,', 'som', 'ett', 'antal', 'kolleger', 'begärt,', 'håller', 'en', 'tyst', 'minut', 'för', 'offren', 'för', 'bl.a.', 'stormarna', 'i', 'de', 'länder', 'i', 'europeiska', 'unionen', 'som', 'drabbats.'], ['jag', 'ber', 'er', 'resa', 'er', 'för', 'en', 'tyst', 'minut.'], ['(parlamentet', 'höll', 'en', 'tyst', 'minut.)'], ['fru', 'talman!', 'det', 'gäller', 'en', 'ordningsfråga.'], ['ni', 'känner', 'till', 'från', 'media', 'att', 'det', 'skett', 'en', 'rad', 'bombexplosioner', 'och', 'mord', 'i', 'sri', 'lanka.'], ['en', 'av', 'de', 'personer', 'som', 'mycket', 'nyligen', 'mördades', 'i', 'sri', 'lanka', 'var', 'kumar', 'ponnambalam,', 'som', 'besökte', 'europaparlamentet', 'för', 'bara', 'några', 'månader', 'sedan.']]\n"
     ]
    },
    {
     "name": "stderr",
     "output_type": "stream",
     "text": [
      "[Stage 1:>                                                          (0 + 1) / 1]"
     ]
    },
    {
     "name": "stdout",
     "output_type": "stream",
     "text": [
      "English preprocessed:  [['resumption', 'of', 'the', 'session'], ['i', 'declare', 'resumed', 'the', 'session', 'of', 'the', 'european', 'parliament', 'adjourned', 'on', 'friday', '17', 'december', '1999,', 'and', 'i', 'would', 'like', 'once', 'again', 'to', 'wish', 'you', 'a', 'happy', 'new', 'year', 'in', 'the', 'hope', 'that', 'you', 'enjoyed', 'a', 'pleasant', 'festive', 'period.'], ['although,', 'as', 'you', 'will', 'have', 'seen,', 'the', 'dreaded', \"'millennium\", \"bug'\", 'failed', 'to', 'materialise,', 'still', 'the', 'people', 'in', 'a', 'number', 'of', 'countries', 'suffered', 'a', 'series', 'of', 'natural', 'disasters', 'that', 'truly', 'were', 'dreadful.'], ['you', 'have', 'requested', 'a', 'debate', 'on', 'this', 'subject', 'in', 'the', 'course', 'of', 'the', 'next', 'few', 'days,', 'during', 'this', 'part-session.'], ['in', 'the', 'meantime,', 'i', 'should', 'like', 'to', 'observe', 'a', \"minute'\", 's', 'silence,', 'as', 'a', 'number', 'of', 'members', 'have', 'requested,', 'on', 'behalf', 'of', 'all', 'the', 'victims', 'concerned,', 'particularly', 'those', 'of', 'the', 'terrible', 'storms,', 'in', 'the', 'various', 'countries', 'of', 'the', 'european', 'union.'], ['please', 'rise,', 'then,', 'for', 'this', \"minute'\", 's', 'silence.'], ['(the', 'house', 'rose', 'and', 'observed', 'a', \"minute'\", 's', 'silence)'], ['madam', 'president,', 'on', 'a', 'point', 'of', 'order.'], ['you', 'will', 'be', 'aware', 'from', 'the', 'press', 'and', 'television', 'that', 'there', 'have', 'been', 'a', 'number', 'of', 'bomb', 'explosions', 'and', 'killings', 'in', 'sri', 'lanka.'], ['one', 'of', 'the', 'people', 'assassinated', 'very', 'recently', 'in', 'sri', 'lanka', 'was', 'mr', 'kumar', 'ponnambalam,', 'who', 'had', 'visited', 'the', 'european', 'parliament', 'just', 'a', 'few', 'months', 'ago.']]\n"
     ]
    },
    {
     "name": "stderr",
     "output_type": "stream",
     "text": [
      "                                                                                "
     ]
    }
   ],
   "source": [
    "print(\"Swedish preprocessed: \", sv_preprocessed.take(10))\n",
    "print(\"English preprocessed: \", en_preprocessed.take(10))"
   ]
  },
  {
   "cell_type": "code",
   "execution_count": 14,
   "id": "c91c437c-180b-47db-8575-ce5184dfa3fa",
   "metadata": {},
   "outputs": [
    {
     "name": "stderr",
     "output_type": "stream",
     "text": [
      "                                                                                "
     ]
    },
    {
     "name": "stdout",
     "output_type": "stream",
     "text": [
      "Line count Swedish file 1862234\n"
     ]
    },
    {
     "name": "stderr",
     "output_type": "stream",
     "text": [
      "[Stage 8:>                                                          (0 + 2) / 2]"
     ]
    },
    {
     "name": "stdout",
     "output_type": "stream",
     "text": [
      "Line count English file 1862234\n"
     ]
    },
    {
     "name": "stderr",
     "output_type": "stream",
     "text": [
      "                                                                                "
     ]
    }
   ],
   "source": [
    "print(\"Line count Swedish file\", sv_preprocessed.count())\n",
    "print(\"Line count English file\", en_preprocessed.count())"
   ]
  },
  {
   "cell_type": "markdown",
   "id": "593f2645-64e1-4347-b363-3e15e6565bf6",
   "metadata": {},
   "source": [
    "# A3"
   ]
  },
  {
   "cell_type": "code",
   "execution_count": 10,
   "id": "8e85c6cf-c667-4d77-bfc4-a696491ef995",
   "metadata": {},
   "outputs": [],
   "source": [
    "import re\n",
    "def remove_special_char(file):\n",
    "    return file.map(lambda line: re.sub(\"[^A-Za-z0-9 åäöÅÄÖ]+\",'', line))\n",
    "\n",
    "def lower_case(file):\n",
    "    return file.map(lambda line: line.lower())\n",
    "\n",
    "# Easier to use flatmap to break out of lists that are kept with map()\n",
    "def tokenize(file):\n",
    "    return file.flatMap(lambda line: line.split(\" \"))\n",
    "\n",
    "sv_pre = remove_special_char(sv_file)\n",
    "sv_pre = lower_case(sv_pre)\n",
    "sv_pre = tokenize(sv_pre)\n",
    "\n",
    "en_pre = remove_special_char(en_file)\n",
    "en_pre = lower_case(en_pre)\n",
    "en_pre = tokenize(en_pre)"
   ]
  },
  {
   "cell_type": "code",
   "execution_count": 23,
   "id": "24871159-623a-456a-9acd-6031a8b8b00d",
   "metadata": {},
   "outputs": [
    {
     "name": "stderr",
     "output_type": "stream",
     "text": [
      "                                                                                "
     ]
    },
    {
     "name": "stdout",
     "output_type": "stream",
     "text": [
      "[('resumption', 527), ('of', 1662006), ('i', 504521), ('declare', 1386), ('european', 270336)]\n"
     ]
    },
    {
     "name": "stderr",
     "output_type": "stream",
     "text": [
      "[Stage 22:======================================>                   (2 + 1) / 3]"
     ]
    },
    {
     "name": "stdout",
     "output_type": "stream",
     "text": [
      "[('session', 771), ('efter', 42231), ('avbrottet', 293), ('december', 6019), ('vill', 131230)]\n"
     ]
    },
    {
     "name": "stderr",
     "output_type": "stream",
     "text": [
      "                                                                                "
     ]
    }
   ],
   "source": [
    "# MapReduce to count occurences of each word\n",
    "\n",
    "en_words = en_pre.map(lambda w: (w,1))\n",
    "en_counts = en_words.reduceByKey(lambda a, b: a + b)\n",
    "\n",
    "sv_words = sv_pre.map(lambda w: (w,1))\n",
    "sv_counts = sv_words.reduceByKey(lambda a, b: a + b)\n",
    "\n",
    "print(en_counts.take(5))\n",
    "print(sv_counts.take(5))"
   ]
  },
  {
   "cell_type": "code",
   "execution_count": 24,
   "id": "8a7eca2f-4d2e-4300-8613-3de2bd4446bd",
   "metadata": {},
   "outputs": [
    {
     "name": "stderr",
     "output_type": "stream",
     "text": [
      "                                                                                "
     ]
    },
    {
     "data": {
      "text/plain": [
       "[('återupptagande', 1),\n",
       " ('av', 1),\n",
       " ('sessionen', 1),\n",
       " ('jag', 1),\n",
       " ('förklarar', 1)]"
      ]
     },
     "execution_count": 24,
     "metadata": {},
     "output_type": "execute_result"
    }
   ],
   "source": [
    "sv_words.take(5)"
   ]
  },
  {
   "cell_type": "code",
   "execution_count": 17,
   "id": "e504ece2-a8dc-44b8-bc3b-c3e8aef3c1fe",
   "metadata": {},
   "outputs": [
    {
     "name": "stderr",
     "output_type": "stream",
     "text": [
      "                                                                                "
     ]
    },
    {
     "data": {
      "text/plain": [
       "[('att', 1709939),\n",
       " ('och', 1350379),\n",
       " ('i', 1054253),\n",
       " ('det', 952991),\n",
       " ('som', 917591),\n",
       " ('för', 915081),\n",
       " ('av', 740724),\n",
       " ('är', 701842),\n",
       " ('en', 636829),\n",
       " ('vi', 546072)]"
      ]
     },
     "execution_count": 17,
     "metadata": {},
     "output_type": "execute_result"
    }
   ],
   "source": [
    "# Calculate 10 most reacurring words in sv file\n",
    "\n",
    "sorted_sv_counts = sv_counts.sortBy(lambda w: w[1], ascending=False)\n",
    "sorted_sv_counts.take(10)"
   ]
  },
  {
   "cell_type": "code",
   "execution_count": 18,
   "id": "57082538-3b1f-496d-b529-b15d2680e770",
   "metadata": {},
   "outputs": [
    {
     "name": "stderr",
     "output_type": "stream",
     "text": [
      "[Stage 20:======================================>                   (2 + 1) / 3]"
     ]
    },
    {
     "name": "stdout",
     "output_type": "stream",
     "text": [
      "total words= 41604741\n"
     ]
    },
    {
     "name": "stderr",
     "output_type": "stream",
     "text": [
      "                                                                                "
     ]
    }
   ],
   "source": [
    "# Calculate total words in sv file\n",
    "\n",
    "from operator import add\n",
    "\n",
    "sv_words = sv_file.map(lambda line: line.split(\" \"))\n",
    "\n",
    "sv_word_counts = sv_words.map(lambda w: len(w))\n",
    "\n",
    "sv_total_words = sv_word_counts.reduce(add)\n",
    "\n",
    "print(f\"total words= {sv_total_words}\")  "
   ]
  },
  {
   "cell_type": "code",
   "execution_count": 19,
   "id": "bcbf5c83-b168-4e8c-b8b9-51a682825cc7",
   "metadata": {},
   "outputs": [
    {
     "data": {
      "text/plain": [
       "[('the', 3505175),\n",
       " ('of', 1662006),\n",
       " ('to', 1543746),\n",
       " ('and', 1318369),\n",
       " ('in', 1088902),\n",
       " ('that', 839083),\n",
       " ('is', 774941),\n",
       " ('a', 774545),\n",
       " ('for', 538192),\n",
       " ('we', 526488)]"
      ]
     },
     "execution_count": 19,
     "metadata": {},
     "output_type": "execute_result"
    }
   ],
   "source": [
    "# Calculate 10 most reacurring words in en file\n",
    "sorted_en_counts = en_counts.sortBy(lambda w: w[1], ascending=False)\n",
    "sorted_en_counts.take(10)"
   ]
  },
  {
   "cell_type": "code",
   "execution_count": 20,
   "id": "c6619565-af61-4697-8965-307d8144ff68",
   "metadata": {},
   "outputs": [
    {
     "name": "stderr",
     "output_type": "stream",
     "text": [
      "[Stage 28:>                                                         (0 + 2) / 2]"
     ]
    },
    {
     "name": "stdout",
     "output_type": "stream",
     "text": [
      "total words= 45778381\n"
     ]
    },
    {
     "name": "stderr",
     "output_type": "stream",
     "text": [
      "                                                                                "
     ]
    }
   ],
   "source": [
    "# Calculate total words for en file\n",
    "from operator import add\n",
    "\n",
    "en_words = en_file.map(lambda line: line.split(\" \"))\n",
    "\n",
    "en_word_counts = en_words.map(lambda w: len(w))\n",
    "\n",
    "en_total_words = en_word_counts.reduce(add)\n",
    "\n",
    "print(f\"total words= {en_total_words}\")  "
   ]
  },
  {
   "cell_type": "markdown",
   "id": "95abd64b-69da-4c9c-a026-c3c5d3dd7a22",
   "metadata": {},
   "source": [
    "# A4"
   ]
  },
  {
   "cell_type": "markdown",
   "id": "97f577e4-0c66-4a80-ab05-cb1c4ef387fa",
   "metadata": {},
   "source": [
    "## 1"
   ]
  },
  {
   "cell_type": "code",
   "execution_count": 11,
   "id": "be7257ac-42f3-4f44-9fdf-3f493735c203",
   "metadata": {},
   "outputs": [
    {
     "name": "stderr",
     "output_type": "stream",
     "text": [
      "                                                                                "
     ]
    }
   ],
   "source": [
    "sv_1 = sv_preprocessed.zipWithIndex()\n",
    "en_1 = en_preprocessed.zipWithIndex()"
   ]
  },
  {
   "cell_type": "markdown",
   "id": "272e188e-516d-4073-b4e4-5cc261cff1f1",
   "metadata": {},
   "source": [
    "## 2"
   ]
  },
  {
   "cell_type": "code",
   "execution_count": 12,
   "id": "16ee5572-3c4e-4b16-a0f9-1807922261d3",
   "metadata": {},
   "outputs": [],
   "source": [
    "sv_2 = sv_1.map(lambda x: (x[1], x[0]))\n",
    "en_2 = en_1.map(lambda x: (x[1], x[0]))"
   ]
  },
  {
   "cell_type": "markdown",
   "id": "0911e153-efda-4a7a-a708-9bdbd2049f03",
   "metadata": {},
   "source": [
    "## 3"
   ]
  },
  {
   "cell_type": "code",
   "execution_count": 17,
   "id": "5c95ddb2-5b63-4546-a297-ca9de7bbfaab",
   "metadata": {
    "scrolled": true
   },
   "outputs": [],
   "source": [
    "sv_en_3 = sv_2.join(en_2)"
   ]
  },
  {
   "cell_type": "code",
   "execution_count": 14,
   "id": "cd9030c4-a8d3-41bf-99ba-5e34dd0c7ae7",
   "metadata": {},
   "outputs": [
    {
     "name": "stderr",
     "output_type": "stream",
     "text": [
      "                                                                                "
     ]
    },
    {
     "data": {
      "text/plain": [
       "[(6120,\n",
       "  (['jag',\n",
       "    'ser',\n",
       "    'inget',\n",
       "    'skäl',\n",
       "    'till',\n",
       "    'varför',\n",
       "    'man',\n",
       "    'inte',\n",
       "    'skulle',\n",
       "    'kunna',\n",
       "    'organisera',\n",
       "    'ett',\n",
       "    'tillståndssystem',\n",
       "    'för',\n",
       "    'uppsamlingsplatser',\n",
       "    'över',\n",
       "    'hela',\n",
       "    'europa,',\n",
       "    'för',\n",
       "    'att',\n",
       "    'skrota',\n",
       "    'de',\n",
       "    '8',\n",
       "    'till',\n",
       "    '9',\n",
       "    'miljoner',\n",
       "    'fordon',\n",
       "    'som',\n",
       "    'man',\n",
       "    'årligen',\n",
       "    'gör',\n",
       "    'sig',\n",
       "    'av',\n",
       "    'med',\n",
       "    'inom',\n",
       "    'europeiska',\n",
       "    'unionen.'],\n",
       "   ['i',\n",
       "    'see',\n",
       "    'no',\n",
       "    'reason',\n",
       "    'why',\n",
       "    'licensing',\n",
       "    'arrangements',\n",
       "    'cannot',\n",
       "    'be',\n",
       "    'organised',\n",
       "    'across',\n",
       "    'europe',\n",
       "    'for',\n",
       "    'collection',\n",
       "    'centres',\n",
       "    'to',\n",
       "    'scrap',\n",
       "    'the',\n",
       "    '8',\n",
       "    'to',\n",
       "    '9',\n",
       "    'million',\n",
       "    'vehicles',\n",
       "    'which',\n",
       "    'are',\n",
       "    'disposed',\n",
       "    'of',\n",
       "    'within',\n",
       "    'the',\n",
       "    'european',\n",
       "    'union',\n",
       "    'on',\n",
       "    'an',\n",
       "    'annual',\n",
       "    'basis.'])),\n",
       " (10775,\n",
       "  (['i',\n",
       "    'och',\n",
       "    'med',\n",
       "    'maastricht',\n",
       "    'och',\n",
       "    'den',\n",
       "    'gemensamma',\n",
       "    'valutan',\n",
       "    'blev',\n",
       "    'budgetpolitiken',\n",
       "    'starkt',\n",
       "    'kringskuren',\n",
       "    'och',\n",
       "    'man',\n",
       "    'kan',\n",
       "    'inte',\n",
       "    'längre',\n",
       "    'ta',\n",
       "    'till',\n",
       "    'devalvering',\n",
       "    'i',\n",
       "    'jakten',\n",
       "    'på',\n",
       "    'förlorad',\n",
       "    'konkurrenskraft.'],\n",
       "   ['with',\n",
       "    'the',\n",
       "    'maastricht',\n",
       "    'treaty',\n",
       "    'and',\n",
       "    'the',\n",
       "    'single',\n",
       "    'currency,',\n",
       "    'budgetary',\n",
       "    'discipline',\n",
       "    'became',\n",
       "    'tighter',\n",
       "    'and',\n",
       "    'recourse',\n",
       "    'to',\n",
       "    'devaluation',\n",
       "    'ceased',\n",
       "    'as',\n",
       "    'a',\n",
       "    'means',\n",
       "    'of',\n",
       "    'endeavouring',\n",
       "    'to',\n",
       "    'restore',\n",
       "    'marginal',\n",
       "    'competitiveness.'])),\n",
       " (16060,\n",
       "  (['enda',\n",
       "    'felet',\n",
       "    'med',\n",
       "    'min',\n",
       "    'make',\n",
       "    '-',\n",
       "    'som',\n",
       "    'var',\n",
       "    'född',\n",
       "    'i',\n",
       "    'andalusien,',\n",
       "    'baskisk',\n",
       "    'senator,',\n",
       "    'skickad',\n",
       "    'av',\n",
       "    'den',\n",
       "    'baskiska',\n",
       "    'regeringen',\n",
       "    'att',\n",
       "    'försvara',\n",
       "    'baskien',\n",
       "    'i',\n",
       "    'madrid-',\n",
       "    'var',\n",
       "    'att',\n",
       "    'han',\n",
       "    'var',\n",
       "    'socialist,',\n",
       "    'men',\n",
       "    'i',\n",
       "    'synnerhet',\n",
       "    'demokrat,',\n",
       "    'inget',\n",
       "    'annat',\n",
       "    'än',\n",
       "    'demokrat.'],\n",
       "   ['he',\n",
       "    'had',\n",
       "    'been',\n",
       "    'sent',\n",
       "    'by',\n",
       "    'the',\n",
       "    'basque',\n",
       "    'government',\n",
       "    'to',\n",
       "    'defend',\n",
       "    'the',\n",
       "    'basque',\n",
       "    'country',\n",
       "    'in',\n",
       "    'madrid.',\n",
       "    'his',\n",
       "    'only',\n",
       "    'crime',\n",
       "    'was',\n",
       "    'that',\n",
       "    'he',\n",
       "    'was',\n",
       "    'a',\n",
       "    'socialist',\n",
       "    'and',\n",
       "    'a',\n",
       "    'democrat',\n",
       "    'and',\n",
       "    'nothing',\n",
       "    'more.']))]"
      ]
     },
     "execution_count": 14,
     "metadata": {},
     "output_type": "execute_result"
    }
   ],
   "source": [
    "sv_en_3.take(3)"
   ]
  },
  {
   "cell_type": "markdown",
   "id": "e89d5639-b6ff-4064-b58d-d418e431baf3",
   "metadata": {},
   "source": [
    "## 4"
   ]
  },
  {
   "cell_type": "code",
   "execution_count": 18,
   "id": "af6c7137-d57f-4529-8d0b-601e7049509d",
   "metadata": {},
   "outputs": [],
   "source": [
    "sv_en_4 = sv_en_3.filter(lambda x: x[1][1] != [''] and x[1][0] != [''])"
   ]
  },
  {
   "cell_type": "code",
   "execution_count": 25,
   "id": "e2ecbeb8-8037-4f53-8678-f624d2b6fd3d",
   "metadata": {},
   "outputs": [
    {
     "name": "stderr",
     "output_type": "stream",
     "text": [
      "[Stage 34:==============================================>           (4 + 1) / 5]"
     ]
    },
    {
     "name": "stdout",
     "output_type": "stream",
     "text": [
      "total words= 3696846\n"
     ]
    },
    {
     "name": "stderr",
     "output_type": "stream",
     "text": [
      "                                                                                "
     ]
    }
   ],
   "source": [
    "# Calculate total words in sv file\n",
    "\n",
    "from operator import add\n",
    "\n",
    "word_count = sv_en_4.map(lambda w: len(w))\n",
    "\n",
    "total_words = word_count.reduce(add)\n",
    "\n",
    "print(f\"total words= {total_words}\")  "
   ]
  },
  {
   "cell_type": "code",
   "execution_count": 26,
   "id": "2200e5fd-f70a-4c16-abf8-99aa8cfbf845",
   "metadata": {},
   "outputs": [
    {
     "name": "stderr",
     "output_type": "stream",
     "text": [
      "[Stage 36:==============================================>           (4 + 1) / 5]"
     ]
    },
    {
     "name": "stdout",
     "output_type": "stream",
     "text": [
      "Line count sv en removed empty lines 1848423\n"
     ]
    },
    {
     "name": "stderr",
     "output_type": "stream",
     "text": [
      "                                                                                "
     ]
    }
   ],
   "source": [
    "print(\"Line count sv en removed empty lines\", sv_en_4.count())\n"
   ]
  },
  {
   "cell_type": "code",
   "execution_count": 27,
   "id": "8f378a54-f0e2-4fa1-8c06-5c9ddd095dbd",
   "metadata": {},
   "outputs": [
    {
     "name": "stderr",
     "output_type": "stream",
     "text": [
      "[Stage 38:==============================================>           (4 + 1) / 5]"
     ]
    },
    {
     "name": "stdout",
     "output_type": "stream",
     "text": [
      "Line count sv en not removed empty lines:  1862234\n"
     ]
    },
    {
     "name": "stderr",
     "output_type": "stream",
     "text": [
      "                                                                                "
     ]
    }
   ],
   "source": [
    "print(\"Line count sv en not removed empty lines: \", sv_en_3.count())"
   ]
  },
  {
   "cell_type": "code",
   "execution_count": 28,
   "id": "a3677cd0-e71e-48d9-8f29-3aa2e2717b82",
   "metadata": {},
   "outputs": [
    {
     "name": "stderr",
     "output_type": "stream",
     "text": [
      "[Stage 42:==============================================>           (4 + 1) / 5]"
     ]
    },
    {
     "name": "stdout",
     "output_type": "stream",
     "text": [
      "13811\n"
     ]
    },
    {
     "name": "stderr",
     "output_type": "stream",
     "text": [
      "                                                                                "
     ]
    }
   ],
   "source": [
    "print(sv_en_3.count()-sv_en_4.count())"
   ]
  },
  {
   "cell_type": "code",
   "execution_count": 29,
   "id": "eeed9c4a-cf7e-4c00-a654-28de7b91cdfd",
   "metadata": {},
   "outputs": [
    {
     "name": "stderr",
     "output_type": "stream",
     "text": [
      "                                                                                "
     ]
    },
    {
     "data": {
      "text/plain": [
       "2462"
      ]
     },
     "execution_count": 29,
     "metadata": {},
     "output_type": "execute_result"
    }
   ],
   "source": [
    "sv_file.filter(lambda x: x == \"\").count()"
   ]
  },
  {
   "cell_type": "code",
   "execution_count": 30,
   "id": "e085a14c-2a3d-4094-96cd-5f488bf7599c",
   "metadata": {},
   "outputs": [
    {
     "name": "stderr",
     "output_type": "stream",
     "text": [
      "                                                                                "
     ]
    },
    {
     "data": {
      "text/plain": [
       "2462"
      ]
     },
     "execution_count": 30,
     "metadata": {},
     "output_type": "execute_result"
    }
   ],
   "source": [
    "sv_preprocessed.filter(lambda x: x == ['']).count()"
   ]
  },
  {
   "cell_type": "code",
   "execution_count": 31,
   "id": "75c48159-1175-4dba-a727-31c1cd6c162c",
   "metadata": {},
   "outputs": [
    {
     "name": "stderr",
     "output_type": "stream",
     "text": [
      "                                                                                "
     ]
    },
    {
     "data": {
      "text/plain": [
       "11349"
      ]
     },
     "execution_count": 31,
     "metadata": {},
     "output_type": "execute_result"
    }
   ],
   "source": [
    "en_file.filter(lambda x: x == \"\").count()"
   ]
  },
  {
   "cell_type": "code",
   "execution_count": 32,
   "id": "cc04e516-2a7f-4f3d-86c8-e271786d7add",
   "metadata": {},
   "outputs": [
    {
     "name": "stderr",
     "output_type": "stream",
     "text": [
      "                                                                                "
     ]
    },
    {
     "data": {
      "text/plain": [
       "11349"
      ]
     },
     "execution_count": 32,
     "metadata": {},
     "output_type": "execute_result"
    }
   ],
   "source": [
    "en_preprocessed.filter(lambda x: x == ['']).count()"
   ]
  },
  {
   "cell_type": "code",
   "execution_count": 33,
   "id": "03eac94b-daa7-4b7e-bd17-3f4a7042c213",
   "metadata": {},
   "outputs": [
    {
     "name": "stderr",
     "output_type": "stream",
     "text": [
      "                                                                                "
     ]
    },
    {
     "data": {
      "text/plain": [
       "['Återupptagande av sessionen',\n",
       " 'Jag förklarar Europaparlamentets session återupptagen efter avbrottet den 17 december. Jag vill på nytt önska er ett gott nytt år och jag hoppas att ni haft en trevlig semester.',\n",
       " 'Som ni kunnat konstatera ägde \"den stora år 2000-buggen\" aldrig rum. Däremot har invånarna i ett antal av våra medlemsländer drabbats av naturkatastrofer som verkligen varit förskräckliga.']"
      ]
     },
     "execution_count": 33,
     "metadata": {},
     "output_type": "execute_result"
    }
   ],
   "source": [
    "sv_file.take(3)"
   ]
  },
  {
   "cell_type": "code",
   "execution_count": 34,
   "id": "b1d941a9-46e0-4d3f-95dc-56bc7ff732ac",
   "metadata": {},
   "outputs": [
    {
     "name": "stderr",
     "output_type": "stream",
     "text": [
      "                                                                                "
     ]
    },
    {
     "data": {
      "text/plain": [
       "[['återupptagande', 'av', 'sessionen'],\n",
       " ['jag',\n",
       "  'förklarar',\n",
       "  'europaparlamentets',\n",
       "  'session',\n",
       "  'återupptagen',\n",
       "  'efter',\n",
       "  'avbrottet',\n",
       "  'den',\n",
       "  '17',\n",
       "  'december.',\n",
       "  'jag',\n",
       "  'vill',\n",
       "  'på',\n",
       "  'nytt',\n",
       "  'önska',\n",
       "  'er',\n",
       "  'ett',\n",
       "  'gott',\n",
       "  'nytt',\n",
       "  'år',\n",
       "  'och',\n",
       "  'jag',\n",
       "  'hoppas',\n",
       "  'att',\n",
       "  'ni',\n",
       "  'haft',\n",
       "  'en',\n",
       "  'trevlig',\n",
       "  'semester.'],\n",
       " ['som',\n",
       "  'ni',\n",
       "  'kunnat',\n",
       "  'konstatera',\n",
       "  'ägde',\n",
       "  '\"den',\n",
       "  'stora',\n",
       "  'år',\n",
       "  '2000-buggen\"',\n",
       "  'aldrig',\n",
       "  'rum.',\n",
       "  'däremot',\n",
       "  'har',\n",
       "  'invånarna',\n",
       "  'i',\n",
       "  'ett',\n",
       "  'antal',\n",
       "  'av',\n",
       "  'våra',\n",
       "  'medlemsländer',\n",
       "  'drabbats',\n",
       "  'av',\n",
       "  'naturkatastrofer',\n",
       "  'som',\n",
       "  'verkligen',\n",
       "  'varit',\n",
       "  'förskräckliga.']]"
      ]
     },
     "execution_count": 34,
     "metadata": {},
     "output_type": "execute_result"
    }
   ],
   "source": [
    "sv_preprocessed.take(3)"
   ]
  },
  {
   "cell_type": "markdown",
   "id": "6bfda135-4431-444e-b236-d7e0e0e68c55",
   "metadata": {},
   "source": [
    "## 5"
   ]
  },
  {
   "cell_type": "code",
   "execution_count": 19,
   "id": "142980df-f43f-41cd-ac43-bc4900f79af8",
   "metadata": {},
   "outputs": [],
   "source": [
    "sv_en_5 = sv_en_4.filter(lambda x: len(x[1][1]) < 10 and len(x[1][0]) < 10) "
   ]
  },
  {
   "cell_type": "code",
   "execution_count": 20,
   "id": "33ecc2c3-160a-461f-9273-5ce5138458b5",
   "metadata": {},
   "outputs": [
    {
     "name": "stderr",
     "output_type": "stream",
     "text": [
      "                                                                                "
     ]
    },
    {
     "data": {
      "text/plain": [
       "200796"
      ]
     },
     "execution_count": 20,
     "metadata": {},
     "output_type": "execute_result"
    }
   ],
   "source": [
    "sv_en_5.count()"
   ]
  },
  {
   "cell_type": "markdown",
   "id": "8a3798bc-24d9-4ed5-ae16-9e5eb2e5ea0c",
   "metadata": {},
   "source": [
    "## 6"
   ]
  },
  {
   "cell_type": "code",
   "execution_count": 21,
   "id": "a258c262-0fbe-4500-94c7-41c9f54f4cb3",
   "metadata": {},
   "outputs": [],
   "source": [
    "sv_en_6 = sv_en_5.filter(lambda x: len(x[1][1]) == len(x[1][0])) "
   ]
  },
  {
   "cell_type": "code",
   "execution_count": 22,
   "id": "da67beb1-e1ea-4479-86b0-3e7357a4e1e6",
   "metadata": {},
   "outputs": [
    {
     "name": "stderr",
     "output_type": "stream",
     "text": [
      "[Stage 9:===============================================>           (4 + 1) / 5]"
     ]
    },
    {
     "name": "stdout",
     "output_type": "stream",
     "text": [
      "Line count sv_en_6 73844\n"
     ]
    },
    {
     "name": "stderr",
     "output_type": "stream",
     "text": [
      "                                                                                "
     ]
    }
   ],
   "source": [
    "print(f\"Line count sv_en_6 {sv_en_6.count()}\")"
   ]
  },
  {
   "cell_type": "markdown",
   "id": "31e14149-e624-4240-b6cd-09fc998a4789",
   "metadata": {},
   "source": [
    "## 7"
   ]
  },
  {
   "cell_type": "code",
   "execution_count": 37,
   "id": "e7b9a492-6fb5-47f9-98f7-0b6cbb6d4871",
   "metadata": {},
   "outputs": [
    {
     "name": "stderr",
     "output_type": "stream",
     "text": [
      "                                                                                "
     ]
    },
    {
     "data": {
      "text/plain": [
       "[(45385,\n",
       "  (['den', 'första', 'frågan', 'handlar', 'om', 'kommittförfarandet.'],\n",
       "   ['the', 'first', 'question', 'refers', 'to', 'commitology.'])),\n",
       " (206300,\n",
       "  (['omröstningen',\n",
       "    'kommer',\n",
       "    'att',\n",
       "    'äga',\n",
       "    'rum',\n",
       "    'i',\n",
       "    'morgon',\n",
       "    'kl.',\n",
       "    '11.00.'],\n",
       "   ['the', 'vote', 'will', 'take', 'place', 'tomorrow', 'at', '11', 'a.m.'])),\n",
       " (269015,\n",
       "  (['parlamentarisk',\n",
       "    'kontroll',\n",
       "    'och',\n",
       "    'en',\n",
       "    'medlagstiftandebefogenhet',\n",
       "    'är',\n",
       "    'också',\n",
       "    'oumbärligt.'],\n",
       "   ['central',\n",
       "    'is',\n",
       "    'therefore',\n",
       "    'also',\n",
       "    'parliamentary',\n",
       "    'control',\n",
       "    'and',\n",
       "    'co-legislation.']))]"
      ]
     },
     "execution_count": 37,
     "metadata": {},
     "output_type": "execute_result"
    }
   ],
   "source": [
    "sv_en_6.take(3)"
   ]
  },
  {
   "cell_type": "code",
   "execution_count": 15,
   "id": "bd5f4dad-2140-428f-915e-ef4cee1780e4",
   "metadata": {},
   "outputs": [],
   "source": [
    "# Gives unworkable output, eventhough it works.\n",
    "def zip_lists(list_1, list_2):\n",
    "    translation_list = []\n",
    "    for last, first in zip(list_1, list_2):\n",
    "        pair_list = [last,first]\n",
    "        translation_list.append(pair_list)\n",
    "    return translation_list"
   ]
  },
  {
   "cell_type": "code",
   "execution_count": 25,
   "id": "01edbe16-7394-4703-8942-af6fcd749d43",
   "metadata": {},
   "outputs": [],
   "source": [
    "sv_en_7 = sv_en_6.flatMap(lambda x: zip(x[1][0], x[1][1]))"
   ]
  },
  {
   "cell_type": "code",
   "execution_count": 26,
   "id": "89c63625-976c-4344-8d36-d4cb39f4e83a",
   "metadata": {},
   "outputs": [
    {
     "name": "stderr",
     "output_type": "stream",
     "text": [
      "                                                                                "
     ]
    },
    {
     "data": {
      "text/plain": [
       "[('jag', 'i'), ('hoppas', 'hope'), ('vi', 'we')]"
      ]
     },
     "execution_count": 26,
     "metadata": {},
     "output_type": "execute_result"
    }
   ],
   "source": [
    "sv_en_7.take(3)"
   ]
  },
  {
   "cell_type": "markdown",
   "id": "cb25aa81-cd4b-4a86-a137-17a426f3843f",
   "metadata": {},
   "source": [
    "## 8"
   ]
  },
  {
   "cell_type": "code",
   "execution_count": 29,
   "id": "48162899-7239-4aa7-83b8-ebff99804532",
   "metadata": {},
   "outputs": [
    {
     "name": "stderr",
     "output_type": "stream",
     "text": [
      "[Stage 17:==============================================>           (4 + 1) / 5]"
     ]
    },
    {
     "name": "stdout",
     "output_type": "stream",
     "text": [
      "[(('-', '-'), 643), (('betänkande:', 'report:'), 253), (('är', 'is'), 10040), (('den', 'the'), 1532), (('andra', 'second'), 260)]\n"
     ]
    },
    {
     "name": "stderr",
     "output_type": "stream",
     "text": [
      "                                                                                "
     ]
    }
   ],
   "source": [
    "# MapReduce to count occurences of each word pair\n",
    "from operator import add\n",
    "\n",
    "wp_map = sv_en_7.map(lambda wp: (wp,1))\n",
    "\n",
    "wp_counts = wp_map.reduceByKey(add)\n",
    "\n",
    "print(wp_counts.take(5))"
   ]
  },
  {
   "cell_type": "code",
   "execution_count": 31,
   "id": "36fe786f-6e2b-438f-ab92-c062c6903be0",
   "metadata": {},
   "outputs": [
    {
     "name": "stderr",
     "output_type": "stream",
     "text": [
      "                                                                                "
     ]
    }
   ],
   "source": [
    "# Calculate 10 most reacurring words in sv file\n",
    "\n",
    "sorted_counts = wp_counts.sortBy(lambda w: w[1], ascending=False)\n"
   ]
  }
 ],
 "metadata": {
  "kernelspec": {
   "display_name": "Python 3 (ipykernel)",
   "language": "python",
   "name": "python3"
  },
  "language_info": {
   "codemirror_mode": {
    "name": "ipython",
    "version": 3
   },
   "file_extension": ".py",
   "mimetype": "text/x-python",
   "name": "python",
   "nbconvert_exporter": "python",
   "pygments_lexer": "ipython3",
   "version": "3.10.12"
  }
 },
 "nbformat": 4,
 "nbformat_minor": 5
}
