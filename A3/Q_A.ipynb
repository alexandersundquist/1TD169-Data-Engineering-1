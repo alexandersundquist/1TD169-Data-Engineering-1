{
 "cells": [
  {
   "cell_type": "markdown",
   "id": "b662749d-f773-401f-8828-2155349e38c1",
   "metadata": {},
   "source": [
    "# A1"
   ]
  },
  {
   "cell_type": "code",
   "execution_count": 1,
   "id": "2a2d234e-f6eb-48b7-a916-135286df75cc",
   "metadata": {},
   "outputs": [
    {
     "name": "stderr",
     "output_type": "stream",
     "text": [
      "Setting default log level to \"WARN\".\n",
      "To adjust logging level use sc.setLogLevel(newLevel). For SparkR, use setLogLevel(newLevel).\n",
      "25/02/28 09:43:28 WARN NativeCodeLoader: Unable to load native-hadoop library for your platform... using builtin-java classes where applicable\n",
      "25/02/28 09:43:29 WARN Utils: Service 'sparkDriver' could not bind on port 9999. Attempting port 10000.\n",
      "25/02/28 09:43:29 WARN StandaloneSchedulerBackend: Dynamic allocation enabled without spark.executor.cores explicitly set, you may get more executors allocated than expected. It's recommended to set spark.executor.cores explicitly. Please check SPARK-30299 for more details.\n"
     ]
    }
   ],
   "source": [
    "from pyspark.sql import SparkSession \n",
    "spark_session = SparkSession.builder \\\n",
    "   .master(\"spark://192.168.2.251:7077\") \\\n",
    "   .appName(\"alexanderSundquist_A1\") \\\n",
    "   .config(\"spark.dynamicAllocation.enabled\", True) \\\n",
    "   .config(\"spark.dynamicAllocation.shuffleTracking.enabled\", True) \\\n",
    "   .config(\"spark.shuffle.service.enabled\", False) \\\n",
    "   .config(\"spark.dynamicAllocation.executorIdleTimeout\", \"30s\") \\\n",
    "   .config(\"spark.cores.max\", 2) \\\n",
    "   .config(\"spark.driver.port\",9999)\\\n",
    "   .config(\"spark.blockManager.port\",10005)\\\n",
    "   .getOrCreate() "
   ]
  },
  {
   "cell_type": "code",
   "execution_count": 2,
   "id": "011ac85d-d754-4c75-844a-3d53d2441fc8",
   "metadata": {},
   "outputs": [],
   "source": [
    "# RDD API\n",
    "spark_context = spark_session.sparkContext\n",
    "spark_context.setLogLevel(\"ERROR\")"
   ]
  },
  {
   "cell_type": "code",
   "execution_count": 3,
   "id": "35f4b84f-e624-4907-93e0-3c25168cd731",
   "metadata": {},
   "outputs": [],
   "source": [
    "# Read Swedish and its English counterpart from HDFS\n",
    "en_file = spark_context.textFile(\"hdfs://192.168.2.251:9000/data/europarl/europarl-v7.sv-en.en\")\n",
    "sv_file = spark_context.textFile(\"hdfs://192.168.2.251:9000/data/europarl/europarl-v7.sv-en.sv\")"
   ]
  },
  {
   "cell_type": "code",
   "execution_count": 4,
   "id": "7b49c981-caf5-49cc-8cd1-b19c8243b736",
   "metadata": {},
   "outputs": [
    {
     "name": "stderr",
     "output_type": "stream",
     "text": [
      "                                                                                "
     ]
    },
    {
     "data": {
      "text/plain": [
       "'Resumption of the session'"
      ]
     },
     "execution_count": 4,
     "metadata": {},
     "output_type": "execute_result"
    }
   ],
   "source": [
    "en_file.first()"
   ]
  },
  {
   "cell_type": "code",
   "execution_count": 5,
   "id": "5d861f05-3f47-4340-a0cf-9ba92546103b",
   "metadata": {},
   "outputs": [
    {
     "name": "stderr",
     "output_type": "stream",
     "text": [
      "                                                                                "
     ]
    },
    {
     "data": {
      "text/plain": [
       "'Återupptagande av sessionen'"
      ]
     },
     "execution_count": 5,
     "metadata": {},
     "output_type": "execute_result"
    }
   ],
   "source": [
    "sv_file.first()"
   ]
  },
  {
   "cell_type": "code",
   "execution_count": 6,
   "id": "b4ec600e-8d7b-4115-bbe0-e0e0cc1ffe7e",
   "metadata": {},
   "outputs": [
    {
     "name": "stderr",
     "output_type": "stream",
     "text": [
      "                                                                                "
     ]
    },
    {
     "name": "stdout",
     "output_type": "stream",
     "text": [
      "Line count Swedish file 1862234\n"
     ]
    },
    {
     "name": "stderr",
     "output_type": "stream",
     "text": [
      "[Stage 3:=============================>                             (1 + 1) / 2]"
     ]
    },
    {
     "name": "stdout",
     "output_type": "stream",
     "text": [
      "Line count English file 1862234\n"
     ]
    },
    {
     "name": "stderr",
     "output_type": "stream",
     "text": [
      "                                                                                "
     ]
    }
   ],
   "source": [
    "print(\"Line count Swedish file\", sv_file.count())\n",
    "print(\"Line count English file\", en_file.count())"
   ]
  },
  {
   "cell_type": "code",
   "execution_count": 7,
   "id": "acf066ed-5cb0-4d08-8bee-6de11db25d1c",
   "metadata": {},
   "outputs": [
    {
     "data": {
      "text/plain": [
       "2"
      ]
     },
     "execution_count": 7,
     "metadata": {},
     "output_type": "execute_result"
    }
   ],
   "source": [
    "# Count number of partitions \n",
    "en_file.getNumPartitions()"
   ]
  },
  {
   "cell_type": "code",
   "execution_count": 8,
   "id": "44559f5d-4243-4174-9bf8-54f6e5925c40",
   "metadata": {},
   "outputs": [
    {
     "data": {
      "text/plain": [
       "3"
      ]
     },
     "execution_count": 8,
     "metadata": {},
     "output_type": "execute_result"
    }
   ],
   "source": [
    "sv_file.getNumPartitions()"
   ]
  },
  {
   "cell_type": "markdown",
   "id": "8c21fc46-92f5-4795-9041-42d9668aa35a",
   "metadata": {},
   "source": [
    "# A2"
   ]
  },
  {
   "cell_type": "code",
   "execution_count": 9,
   "id": "a2909bc1-7e1e-499f-8148-fbbcc7b7e89c",
   "metadata": {},
   "outputs": [
    {
     "name": "stderr",
     "output_type": "stream",
     "text": [
      "[Stage 4:>                                                          (0 + 1) / 1]"
     ]
    },
    {
     "name": "stdout",
     "output_type": "stream",
     "text": [
      "återupptagande av sessionen\n"
     ]
    },
    {
     "name": "stderr",
     "output_type": "stream",
     "text": [
      "                                                                                "
     ]
    }
   ],
   "source": [
    "first_line = sv_file.first()\n",
    "first_line_lower = first_line.lower()\n",
    "print(first_line_lower)"
   ]
  },
  {
   "cell_type": "code",
   "execution_count": 44,
   "id": "15f2e0e1-8b03-4278-a9e8-f7426bb059c7",
   "metadata": {},
   "outputs": [],
   "source": [
    "import re\n",
    "def remove_special_char(file):\n",
    "    return file.map(lambda line: re.sub(\"[^A-Za-z0-9 -åäöÅÄÖ]+\",'', line))"
   ]
  },
  {
   "cell_type": "code",
   "execution_count": 45,
   "id": "4096e1e2-ac77-48dd-a221-0f69b23a434e",
   "metadata": {},
   "outputs": [],
   "source": [
    "def lower_case(file):\n",
    "    return file.map(lambda line: line.lower())"
   ]
  },
  {
   "cell_type": "code",
   "execution_count": 46,
   "id": "922c956e-7727-47b4-babe-6357764ce940",
   "metadata": {},
   "outputs": [],
   "source": [
    "def tokenize(file):\n",
    "    return file.map(lambda line: line.split(\" \"))"
   ]
  },
  {
   "cell_type": "code",
   "execution_count": 47,
   "id": "8240622e-287d-4366-a20e-71b111714796",
   "metadata": {},
   "outputs": [
    {
     "name": "stderr",
     "output_type": "stream",
     "text": [
      "                                                                                "
     ]
    },
    {
     "name": "stdout",
     "output_type": "stream",
     "text": [
      "Swedish preprocessed:  [['återupptagande', 'av', 'sessionen'], ['jag', 'förklarar', 'europaparlamentets', 'session', 'återupptagen', 'efter', 'avbrottet', 'den', '17', 'december.', 'jag', 'vill', 'på', 'nytt', 'önska', 'er', 'ett', 'gott', 'nytt', 'år', 'och', 'jag', 'hoppas', 'att', 'ni', 'haft', 'en', 'trevlig', 'semester.'], ['som', 'ni', 'kunnat', 'konstatera', 'ägde', '\"den', 'stora', 'år', '2000-buggen\"', 'aldrig', 'rum.', 'däremot', 'har', 'invånarna', 'i', 'ett', 'antal', 'av', 'våra', 'medlemsländer', 'drabbats', 'av', 'naturkatastrofer', 'som', 'verkligen', 'varit', 'förskräckliga.'], ['ni', 'har', 'begärt', 'en', 'debatt', 'i', 'ämnet', 'under', 'sammanträdesperiodens', 'kommande', 'dagar.'], ['till', 'dess', 'vill', 'jag', 'att', 'vi,', 'som', 'ett', 'antal', 'kolleger', 'begärt,', 'håller', 'en', 'tyst', 'minut', 'för', 'offren', 'för', 'bl.a.', 'stormarna', 'i', 'de', 'länder', 'i', 'europeiska', 'unionen', 'som', 'drabbats.'], ['jag', 'ber', 'er', 'resa', 'er', 'för', 'en', 'tyst', 'minut.'], ['(parlamentet', 'höll', 'en', 'tyst', 'minut.)'], ['fru', 'talman!', 'det', 'gäller', 'en', 'ordningsfråga.'], ['ni', 'känner', 'till', 'från', 'media', 'att', 'det', 'skett', 'en', 'rad', 'bombexplosioner', 'och', 'mord', 'i', 'sri', 'lanka.'], ['en', 'av', 'de', 'personer', 'som', 'mycket', 'nyligen', 'mördades', 'i', 'sri', 'lanka', 'var', 'kumar', 'ponnambalam,', 'som', 'besökte', 'europaparlamentet', 'för', 'bara', 'några', 'månader', 'sedan.']]\n",
      "English preprocessed:  [['resumption', 'of', 'the', 'session'], ['i', 'declare', 'resumed', 'the', 'session', 'of', 'the', 'european', 'parliament', 'adjourned', 'on', 'friday', '17', 'december', '1999,', 'and', 'i', 'would', 'like', 'once', 'again', 'to', 'wish', 'you', 'a', 'happy', 'new', 'year', 'in', 'the', 'hope', 'that', 'you', 'enjoyed', 'a', 'pleasant', 'festive', 'period.'], ['although,', 'as', 'you', 'will', 'have', 'seen,', 'the', 'dreaded', \"'millennium\", \"bug'\", 'failed', 'to', 'materialise,', 'still', 'the', 'people', 'in', 'a', 'number', 'of', 'countries', 'suffered', 'a', 'series', 'of', 'natural', 'disasters', 'that', 'truly', 'were', 'dreadful.'], ['you', 'have', 'requested', 'a', 'debate', 'on', 'this', 'subject', 'in', 'the', 'course', 'of', 'the', 'next', 'few', 'days,', 'during', 'this', 'part-session.'], ['in', 'the', 'meantime,', 'i', 'should', 'like', 'to', 'observe', 'a', \"minute'\", 's', 'silence,', 'as', 'a', 'number', 'of', 'members', 'have', 'requested,', 'on', 'behalf', 'of', 'all', 'the', 'victims', 'concerned,', 'particularly', 'those', 'of', 'the', 'terrible', 'storms,', 'in', 'the', 'various', 'countries', 'of', 'the', 'european', 'union.'], ['please', 'rise,', 'then,', 'for', 'this', \"minute'\", 's', 'silence.'], ['(the', 'house', 'rose', 'and', 'observed', 'a', \"minute'\", 's', 'silence)'], ['madam', 'president,', 'on', 'a', 'point', 'of', 'order.'], ['you', 'will', 'be', 'aware', 'from', 'the', 'press', 'and', 'television', 'that', 'there', 'have', 'been', 'a', 'number', 'of', 'bomb', 'explosions', 'and', 'killings', 'in', 'sri', 'lanka.'], ['one', 'of', 'the', 'people', 'assassinated', 'very', 'recently', 'in', 'sri', 'lanka', 'was', 'mr', 'kumar', 'ponnambalam,', 'who', 'had', 'visited', 'the', 'european', 'parliament', 'just', 'a', 'few', 'months', 'ago.']]\n"
     ]
    },
    {
     "name": "stderr",
     "output_type": "stream",
     "text": [
      "                                                                                "
     ]
    }
   ],
   "source": [
    "sv_preprocessed = remove_special_char(sv_file)\n",
    "sv_preprocessed = lower_case(sv_preprocessed)\n",
    "sv_preprocessed = tokenize(sv_preprocessed)\n",
    "\n",
    "en_preprocessed = remove_special_char(en_file)\n",
    "en_preprocessed = lower_case(en_preprocessed)\n",
    "en_preprocessed = tokenize(en_preprocessed)\n",
    "\n",
    "print(\"Swedish preprocessed: \", sv_preprocessed.take(10))\n",
    "print(\"English preprocessed: \", en_preprocessed.take(10))"
   ]
  },
  {
   "cell_type": "code",
   "execution_count": 48,
   "id": "c91c437c-180b-47db-8575-ce5184dfa3fa",
   "metadata": {},
   "outputs": [
    {
     "name": "stderr",
     "output_type": "stream",
     "text": [
      "                                                                                "
     ]
    },
    {
     "name": "stdout",
     "output_type": "stream",
     "text": [
      "Line count Swedish file 1862234\n"
     ]
    },
    {
     "name": "stderr",
     "output_type": "stream",
     "text": [
      "[Stage 63:=============================>                            (1 + 1) / 2]"
     ]
    },
    {
     "name": "stdout",
     "output_type": "stream",
     "text": [
      "Line count English file 1862234\n"
     ]
    },
    {
     "name": "stderr",
     "output_type": "stream",
     "text": [
      "                                                                                "
     ]
    }
   ],
   "source": [
    "print(\"Line count Swedish file\", sv_preprocessed.count())\n",
    "print(\"Line count English file\", en_preprocessed.count())"
   ]
  },
  {
   "cell_type": "markdown",
   "id": "593f2645-64e1-4347-b363-3e15e6565bf6",
   "metadata": {},
   "source": [
    "# A3"
   ]
  },
  {
   "cell_type": "code",
   "execution_count": 15,
   "id": "8e85c6cf-c667-4d77-bfc4-a696491ef995",
   "metadata": {},
   "outputs": [],
   "source": [
    "import re\n",
    "def remove_special_char(file):\n",
    "    return file.map(lambda line: re.sub(\"[^A-Za-z0-9 åäöÅÄÖ]+\",'', line))\n",
    "\n",
    "def lower_case(file):\n",
    "    return file.map(lambda line: line.lower())\n",
    "\n",
    "# Easier to use flatmap to break out of lists that are kept with map()\n",
    "def tokenize(file):\n",
    "    return file.flatMap(lambda line: line.split(\" \"))\n",
    "\n",
    "sv_pre = remove_special_char(sv_file)\n",
    "sv_pre = lower_case(sv_pre)\n",
    "sv_pre = tokenize(sv_pre)\n",
    "\n",
    "en_pre = remove_special_char(en_file)\n",
    "en_pre = lower_case(en_pre)\n",
    "en_pre = tokenize(en_pre)"
   ]
  },
  {
   "cell_type": "code",
   "execution_count": 16,
   "id": "24871159-623a-456a-9acd-6031a8b8b00d",
   "metadata": {},
   "outputs": [
    {
     "name": "stderr",
     "output_type": "stream",
     "text": [
      "                                                                                "
     ]
    },
    {
     "name": "stdout",
     "output_type": "stream",
     "text": [
      "[('resumption', 527), ('of', 1662006), ('i', 504521), ('declare', 1386), ('european', 270336)]\n"
     ]
    },
    {
     "name": "stderr",
     "output_type": "stream",
     "text": [
      "[Stage 11:======================================>                   (2 + 1) / 3]"
     ]
    },
    {
     "name": "stdout",
     "output_type": "stream",
     "text": [
      "[('session', 771), ('efter', 42231), ('avbrottet', 293), ('december', 6019), ('vill', 131230)]\n"
     ]
    },
    {
     "name": "stderr",
     "output_type": "stream",
     "text": [
      "                                                                                "
     ]
    }
   ],
   "source": [
    "# MapReduce to count occurences of each word\n",
    "\n",
    "en_words = en_pre.map(lambda w: (w,1))\n",
    "en_counts = en_words.reduceByKey(lambda a, b: a + b)\n",
    "\n",
    "sv_words = sv_pre.map(lambda w: (w,1))\n",
    "sv_counts = sv_words.reduceByKey(lambda a, b: a + b)\n",
    "\n",
    "print(en_counts.take(5))\n",
    "print(sv_counts.take(5))"
   ]
  },
  {
   "cell_type": "code",
   "execution_count": 17,
   "id": "e504ece2-a8dc-44b8-bc3b-c3e8aef3c1fe",
   "metadata": {},
   "outputs": [
    {
     "name": "stderr",
     "output_type": "stream",
     "text": [
      "                                                                                "
     ]
    },
    {
     "data": {
      "text/plain": [
       "[('att', 1709939),\n",
       " ('och', 1350379),\n",
       " ('i', 1054253),\n",
       " ('det', 952991),\n",
       " ('som', 917591),\n",
       " ('för', 915081),\n",
       " ('av', 740724),\n",
       " ('är', 701842),\n",
       " ('en', 636829),\n",
       " ('vi', 546072)]"
      ]
     },
     "execution_count": 17,
     "metadata": {},
     "output_type": "execute_result"
    }
   ],
   "source": [
    "# Calculate 10 most reacurring words in sv file\n",
    "\n",
    "sorted_sv_counts = sv_counts.sortBy(lambda w: w[1], ascending=False)\n",
    "sorted_sv_counts.take(10)"
   ]
  },
  {
   "cell_type": "code",
   "execution_count": 18,
   "id": "57082538-3b1f-496d-b529-b15d2680e770",
   "metadata": {},
   "outputs": [
    {
     "name": "stderr",
     "output_type": "stream",
     "text": [
      "[Stage 20:======================================>                   (2 + 1) / 3]"
     ]
    },
    {
     "name": "stdout",
     "output_type": "stream",
     "text": [
      "total words= 41604741\n"
     ]
    },
    {
     "name": "stderr",
     "output_type": "stream",
     "text": [
      "                                                                                "
     ]
    }
   ],
   "source": [
    "# Calculate total words in sv file\n",
    "\n",
    "from operator import add\n",
    "\n",
    "sv_words = sv_file.map(lambda line: line.split(\" \"))\n",
    "\n",
    "sv_word_counts = sv_words.map(lambda w: len(w))\n",
    "\n",
    "sv_total_words = sv_word_counts.reduce(add)\n",
    "\n",
    "print(f\"total words= {sv_total_words}\")  "
   ]
  },
  {
   "cell_type": "code",
   "execution_count": 19,
   "id": "bcbf5c83-b168-4e8c-b8b9-51a682825cc7",
   "metadata": {},
   "outputs": [
    {
     "data": {
      "text/plain": [
       "[('the', 3505175),\n",
       " ('of', 1662006),\n",
       " ('to', 1543746),\n",
       " ('and', 1318369),\n",
       " ('in', 1088902),\n",
       " ('that', 839083),\n",
       " ('is', 774941),\n",
       " ('a', 774545),\n",
       " ('for', 538192),\n",
       " ('we', 526488)]"
      ]
     },
     "execution_count": 19,
     "metadata": {},
     "output_type": "execute_result"
    }
   ],
   "source": [
    "# Calculate 10 most reacurring words in en file\n",
    "sorted_en_counts = en_counts.sortBy(lambda w: w[1], ascending=False)\n",
    "sorted_en_counts.take(10)"
   ]
  },
  {
   "cell_type": "code",
   "execution_count": 20,
   "id": "c6619565-af61-4697-8965-307d8144ff68",
   "metadata": {},
   "outputs": [
    {
     "name": "stderr",
     "output_type": "stream",
     "text": [
      "[Stage 28:>                                                         (0 + 2) / 2]"
     ]
    },
    {
     "name": "stdout",
     "output_type": "stream",
     "text": [
      "total words= 45778381\n"
     ]
    },
    {
     "name": "stderr",
     "output_type": "stream",
     "text": [
      "                                                                                "
     ]
    }
   ],
   "source": [
    "# Calculate total words for en file\n",
    "from operator import add\n",
    "\n",
    "en_words = en_file.map(lambda line: line.split(\" \"))\n",
    "\n",
    "en_word_counts = en_words.map(lambda w: len(w))\n",
    "\n",
    "en_total_words = en_word_counts.reduce(add)\n",
    "\n",
    "print(f\"total words= {en_total_words}\")  "
   ]
  },
  {
   "cell_type": "markdown",
   "id": "95abd64b-69da-4c9c-a026-c3c5d3dd7a22",
   "metadata": {},
   "source": [
    "# A4"
   ]
  },
  {
   "cell_type": "code",
   "execution_count": 21,
   "id": "be7257ac-42f3-4f44-9fdf-3f493735c203",
   "metadata": {},
   "outputs": [
    {
     "name": "stderr",
     "output_type": "stream",
     "text": [
      "                                                                                "
     ]
    }
   ],
   "source": [
    "sv_1 = sv_preprocessed.zipWithIndex()\n",
    "en_1 = en_preprocessed.zipWithIndex()"
   ]
  },
  {
   "cell_type": "code",
   "execution_count": 22,
   "id": "16ee5572-3c4e-4b16-a0f9-1807922261d3",
   "metadata": {},
   "outputs": [],
   "source": [
    "sv_2 = sv_1.map(lambda x: (x[1], x[0]))\n",
    "en_2 = en_1.map(lambda x: (x[1], x[0]))"
   ]
  },
  {
   "cell_type": "code",
   "execution_count": 23,
   "id": "5c95ddb2-5b63-4546-a297-ca9de7bbfaab",
   "metadata": {
    "scrolled": true
   },
   "outputs": [
    {
     "name": "stderr",
     "output_type": "stream",
     "text": [
      "                                                                                "
     ]
    },
    {
     "data": {
      "text/plain": [
       "[(148705,\n",
       "  (['vi',\n",
       "    'har',\n",
       "    'tassat',\n",
       "    'likt',\n",
       "    'katten',\n",
       "    'kring',\n",
       "    'het',\n",
       "    'gröt',\n",
       "    'i',\n",
       "    'den',\n",
       "    'frågan',\n",
       "    'alltför',\n",
       "    'länge'],\n",
       "   ['we',\n",
       "    'have',\n",
       "    'pussyfooted',\n",
       "    'on',\n",
       "    'that',\n",
       "    'issue',\n",
       "    'for',\n",
       "    'far',\n",
       "    'too',\n",
       "    'long'])),\n",
       " (351195,\n",
       "  (['jag', 'tackar', 'ledamoten', 'för', 'hans', 'frågor'],\n",
       "   ['i', 'thank', 'the', 'honourable', 'member', 'for', 'his', 'questions'])),\n",
       " (444455,\n",
       "  (['',\n",
       "    '',\n",
       "    'herr',\n",
       "    'talman',\n",
       "    'imorgon',\n",
       "    'kommer',\n",
       "    'vi',\n",
       "    'att',\n",
       "    'rösta',\n",
       "    'om',\n",
       "    'ett',\n",
       "    'betänkande',\n",
       "    'som',\n",
       "    'inte',\n",
       "    'längre',\n",
       "    'handlar',\n",
       "    'om',\n",
       "    'själva',\n",
       "    'ursprungsproblemet',\n",
       "    'nämligen',\n",
       "    'att',\n",
       "    'minska',\n",
       "    'luftföroreningarna',\n",
       "    'genom',\n",
       "    'en',\n",
       "    'kvalitativ',\n",
       "    'och',\n",
       "    'kvantitativ',\n",
       "    'begränsning',\n",
       "    'av',\n",
       "    'transittrafiken',\n",
       "    'genom',\n",
       "    'österrike'],\n",
       "   ['',\n",
       "    'mr',\n",
       "    'president',\n",
       "    'tomorrow',\n",
       "    'we',\n",
       "    'shall',\n",
       "    'be',\n",
       "    'voting',\n",
       "    'on',\n",
       "    'a',\n",
       "    'report',\n",
       "    'that',\n",
       "    'no',\n",
       "    'longer',\n",
       "    'deals',\n",
       "    'with',\n",
       "    'the',\n",
       "    'original',\n",
       "    'problem',\n",
       "    'namely',\n",
       "    'the',\n",
       "    'reduction',\n",
       "    'of',\n",
       "    'atmospheric',\n",
       "    'pollutants',\n",
       "    'by',\n",
       "    'means',\n",
       "    'of',\n",
       "    'a',\n",
       "    'qualitative',\n",
       "    'and',\n",
       "    'quantitative',\n",
       "    'restriction',\n",
       "    'on',\n",
       "    'transit',\n",
       "    'traffic',\n",
       "    'through',\n",
       "    'austria']))]"
      ]
     },
     "execution_count": 23,
     "metadata": {},
     "output_type": "execute_result"
    }
   ],
   "source": [
    "sv_en_3 = sv_2.join(en_2)\n",
    "sv_en_3.take(3)"
   ]
  },
  {
   "cell_type": "code",
   "execution_count": 71,
   "id": "af6c7137-d57f-4529-8d0b-601e7049509d",
   "metadata": {},
   "outputs": [],
   "source": [
    "sv_en_4 = sv_en_3.filter(lambda x: x[1][1] != [''] and x[1][0] != [''])"
   ]
  },
  {
   "cell_type": "code",
   "execution_count": 72,
   "id": "e2ecbeb8-8037-4f53-8678-f624d2b6fd3d",
   "metadata": {},
   "outputs": [
    {
     "name": "stderr",
     "output_type": "stream",
     "text": [
      "[Stage 93:==============================================>           (4 + 1) / 5]"
     ]
    },
    {
     "name": "stdout",
     "output_type": "stream",
     "text": [
      "total words= 3693754\n"
     ]
    },
    {
     "name": "stderr",
     "output_type": "stream",
     "text": [
      "                                                                                "
     ]
    }
   ],
   "source": [
    "# Calculate total words in sv file\n",
    "\n",
    "from operator import add\n",
    "\n",
    "word_count = sv_en_4.map(lambda w: len(w))\n",
    "\n",
    "total_words = word_count.reduce(add)\n",
    "\n",
    "print(f\"total words= {total_words}\")  "
   ]
  },
  {
   "cell_type": "code",
   "execution_count": 73,
   "id": "2200e5fd-f70a-4c16-abf8-99aa8cfbf845",
   "metadata": {},
   "outputs": [
    {
     "name": "stderr",
     "output_type": "stream",
     "text": [
      "[Stage 95:==============================================>           (4 + 1) / 5]"
     ]
    },
    {
     "name": "stdout",
     "output_type": "stream",
     "text": [
      "Line count sv en removed empty lines 1846877\n"
     ]
    },
    {
     "name": "stderr",
     "output_type": "stream",
     "text": [
      "                                                                                "
     ]
    }
   ],
   "source": [
    "print(\"Line count sv en removed empty lines\", sv_en_4.count())\n"
   ]
  },
  {
   "cell_type": "code",
   "execution_count": 59,
   "id": "8f378a54-f0e2-4fa1-8c06-5c9ddd095dbd",
   "metadata": {},
   "outputs": [
    {
     "name": "stderr",
     "output_type": "stream",
     "text": [
      "[Stage 75:==============================================>           (4 + 1) / 5]"
     ]
    },
    {
     "name": "stdout",
     "output_type": "stream",
     "text": [
      "Line count sv en not removed empty lines:  1862234\n"
     ]
    },
    {
     "name": "stderr",
     "output_type": "stream",
     "text": [
      "                                                                                "
     ]
    }
   ],
   "source": [
    "print(\"Line count sv en not removed empty lines: \", sv_en_3.count())"
   ]
  },
  {
   "cell_type": "code",
   "execution_count": 75,
   "id": "a3677cd0-e71e-48d9-8f29-3aa2e2717b82",
   "metadata": {},
   "outputs": [
    {
     "name": "stderr",
     "output_type": "stream",
     "text": [
      "[Stage 100:=============================================>           (4 + 1) / 5]"
     ]
    },
    {
     "name": "stdout",
     "output_type": "stream",
     "text": [
      "15357\n"
     ]
    },
    {
     "name": "stderr",
     "output_type": "stream",
     "text": [
      "                                                                                "
     ]
    }
   ],
   "source": [
    "print(sv_en_3.count()-sv_en_4.count())"
   ]
  },
  {
   "cell_type": "code",
   "execution_count": 55,
   "id": "eeed9c4a-cf7e-4c00-a654-28de7b91cdfd",
   "metadata": {},
   "outputs": [
    {
     "name": "stderr",
     "output_type": "stream",
     "text": [
      "                                                                                "
     ]
    },
    {
     "data": {
      "text/plain": [
       "2462"
      ]
     },
     "execution_count": 55,
     "metadata": {},
     "output_type": "execute_result"
    }
   ],
   "source": [
    "sv_file.filter(lambda x: x == \"\").count()"
   ]
  },
  {
   "cell_type": "code",
   "execution_count": 69,
   "id": "e085a14c-2a3d-4094-96cd-5f488bf7599c",
   "metadata": {},
   "outputs": [
    {
     "name": "stderr",
     "output_type": "stream",
     "text": [
      "                                                                                "
     ]
    },
    {
     "data": {
      "text/plain": [
       "2462"
      ]
     },
     "execution_count": 69,
     "metadata": {},
     "output_type": "execute_result"
    }
   ],
   "source": [
    "sv_preprocessed.filter(lambda x: x == ['']).count()"
   ]
  },
  {
   "cell_type": "code",
   "execution_count": 74,
   "id": "75c48159-1175-4dba-a727-31c1cd6c162c",
   "metadata": {},
   "outputs": [
    {
     "name": "stderr",
     "output_type": "stream",
     "text": [
      "                                                                                "
     ]
    },
    {
     "data": {
      "text/plain": [
       "11349"
      ]
     },
     "execution_count": 74,
     "metadata": {},
     "output_type": "execute_result"
    }
   ],
   "source": [
    "en_file.filter(lambda x: x == \"\").count()"
   ]
  },
  {
   "cell_type": "code",
   "execution_count": 76,
   "id": "cc04e516-2a7f-4f3d-86c8-e271786d7add",
   "metadata": {},
   "outputs": [
    {
     "name": "stderr",
     "output_type": "stream",
     "text": [
      "                                                                                "
     ]
    },
    {
     "data": {
      "text/plain": [
       "11349"
      ]
     },
     "execution_count": 76,
     "metadata": {},
     "output_type": "execute_result"
    }
   ],
   "source": [
    "en_preprocessed.filter(lambda x: x == ['']).count()"
   ]
  },
  {
   "cell_type": "code",
   "execution_count": 42,
   "id": "03eac94b-daa7-4b7e-bd17-3f4a7042c213",
   "metadata": {},
   "outputs": [
    {
     "name": "stderr",
     "output_type": "stream",
     "text": [
      "                                                                                "
     ]
    },
    {
     "data": {
      "text/plain": [
       "['Återupptagande av sessionen',\n",
       " 'Jag förklarar Europaparlamentets session återupptagen efter avbrottet den 17 december. Jag vill på nytt önska er ett gott nytt år och jag hoppas att ni haft en trevlig semester.',\n",
       " 'Som ni kunnat konstatera ägde \"den stora år 2000-buggen\" aldrig rum. Däremot har invånarna i ett antal av våra medlemsländer drabbats av naturkatastrofer som verkligen varit förskräckliga.']"
      ]
     },
     "execution_count": 42,
     "metadata": {},
     "output_type": "execute_result"
    }
   ],
   "source": [
    "sv_file.take(3)"
   ]
  },
  {
   "cell_type": "code",
   "execution_count": 43,
   "id": "b1d941a9-46e0-4d3f-95dc-56bc7ff732ac",
   "metadata": {},
   "outputs": [
    {
     "name": "stderr",
     "output_type": "stream",
     "text": [
      "                                                                                "
     ]
    },
    {
     "data": {
      "text/plain": [
       "[['återupptagande', 'av', 'sessionen'],\n",
       " ['jag',\n",
       "  'förklarar',\n",
       "  'europaparlamentets',\n",
       "  'session',\n",
       "  'återupptagen',\n",
       "  'efter',\n",
       "  'avbrottet',\n",
       "  'den',\n",
       "  '17',\n",
       "  'december',\n",
       "  'jag',\n",
       "  'vill',\n",
       "  'på',\n",
       "  'nytt',\n",
       "  'önska',\n",
       "  'er',\n",
       "  'ett',\n",
       "  'gott',\n",
       "  'nytt',\n",
       "  'år',\n",
       "  'och',\n",
       "  'jag',\n",
       "  'hoppas',\n",
       "  'att',\n",
       "  'ni',\n",
       "  'haft',\n",
       "  'en',\n",
       "  'trevlig',\n",
       "  'semester'],\n",
       " ['som',\n",
       "  'ni',\n",
       "  'kunnat',\n",
       "  'konstatera',\n",
       "  'ägde',\n",
       "  'den',\n",
       "  'stora',\n",
       "  'år',\n",
       "  '2000buggen',\n",
       "  'aldrig',\n",
       "  'rum',\n",
       "  'däremot',\n",
       "  'har',\n",
       "  'invånarna',\n",
       "  'i',\n",
       "  'ett',\n",
       "  'antal',\n",
       "  'av',\n",
       "  'våra',\n",
       "  'medlemsländer',\n",
       "  'drabbats',\n",
       "  'av',\n",
       "  'naturkatastrofer',\n",
       "  'som',\n",
       "  'verkligen',\n",
       "  'varit',\n",
       "  'förskräckliga']]"
      ]
     },
     "execution_count": 43,
     "metadata": {},
     "output_type": "execute_result"
    }
   ],
   "source": [
    "sv_preprocessed.take(3)"
   ]
  },
  {
   "cell_type": "markdown",
   "id": "6bfda135-4431-444e-b236-d7e0e0e68c55",
   "metadata": {},
   "source": [
    "# A5"
   ]
  },
  {
   "cell_type": "code",
   "execution_count": 62,
   "id": "142980df-f43f-41cd-ac43-bc4900f79af8",
   "metadata": {},
   "outputs": [
    {
     "name": "stderr",
     "output_type": "stream",
     "text": [
      "                                                                                "
     ]
    },
    {
     "data": {
      "text/plain": [
       "210755"
      ]
     },
     "execution_count": 62,
     "metadata": {},
     "output_type": "execute_result"
    }
   ],
   "source": [
    "sv_en_5 = sv_en_4.filter(lambda x: len(x[1][1]) < 10 and len(x[1][0]) < 10) \n",
    "sv_en_5.count()"
   ]
  },
  {
   "cell_type": "markdown",
   "id": "8a3798bc-24d9-4ed5-ae16-9e5eb2e5ea0c",
   "metadata": {},
   "source": [
    "# A6"
   ]
  },
  {
   "cell_type": "code",
   "execution_count": 63,
   "id": "a258c262-0fbe-4500-94c7-41c9f54f4cb3",
   "metadata": {},
   "outputs": [
    {
     "name": "stderr",
     "output_type": "stream",
     "text": [
      "[Stage 81:==============================================>           (4 + 1) / 5]"
     ]
    },
    {
     "name": "stdout",
     "output_type": "stream",
     "text": [
      "Line count sv_en_6 76296\n"
     ]
    },
    {
     "name": "stderr",
     "output_type": "stream",
     "text": [
      "                                                                                "
     ]
    }
   ],
   "source": [
    "sv_en_6 = sv_en_5.filter(lambda x: len(x[1][1]) == len(x[1][0])) \n",
    "print(f\"Line count sv_en_6 {sv_en_6.count()}\")"
   ]
  },
  {
   "cell_type": "markdown",
   "id": "31e14149-e624-4240-b6cd-09fc998a4789",
   "metadata": {},
   "source": [
    "# A7"
   ]
  },
  {
   "cell_type": "code",
   "execution_count": 66,
   "id": "e7b9a492-6fb5-47f9-98f7-0b6cbb6d4871",
   "metadata": {},
   "outputs": [
    {
     "name": "stderr",
     "output_type": "stream",
     "text": [
      "                                                                                "
     ]
    },
    {
     "data": {
      "text/plain": [
       "[(51365, ([''], [''])),\n",
       " (53675,\n",
       "  (['jag', 'förklarar', 'omröstningen', 'avslutad'],\n",
       "   ['that', 'concludes', 'the', 'vote'])),\n",
       " (67310,\n",
       "  (['detta', 'var', 'mitt', 'svar'], ['this', 'concludes', 'my', 'response']))]"
      ]
     },
     "execution_count": 66,
     "metadata": {},
     "output_type": "execute_result"
    }
   ],
   "source": [
    "sv_en_6.take(3)"
   ]
  },
  {
   "cell_type": "code",
   "execution_count": 65,
   "id": "bc0e774e-d4cc-42ed-8de4-026ed11ba994",
   "metadata": {},
   "outputs": [
    {
     "name": "stderr",
     "output_type": "stream",
     "text": [
      "                                                                                "
     ]
    },
    {
     "data": {
      "text/plain": [
       "[(28000,\n",
       "  (['de', 'behöver', 'denna', 'plan', 'för', 'att', 'fortsätta'],\n",
       "   ['they', 'need', 'this', 'scheme', 'to', 'go', 'ahead'])),\n",
       " (69075,\n",
       "  (['jag', 'förklarar', 'debatten', 'avslutad'],\n",
       "   ['the', 'debate', 'is', 'closed'])),\n",
       " (70435,\n",
       "  (['samstämmighet',\n",
       "    'och',\n",
       "    'öppenhet',\n",
       "    'är',\n",
       "    'också',\n",
       "    'viktiga',\n",
       "    'principer',\n",
       "    'för',\n",
       "    'emas'],\n",
       "   ['unanimity',\n",
       "    'and',\n",
       "    'openness',\n",
       "    'are',\n",
       "    'also',\n",
       "    'important',\n",
       "    'principles',\n",
       "    'for',\n",
       "    'emas']))]"
      ]
     },
     "execution_count": 65,
     "metadata": {},
     "output_type": "execute_result"
    }
   ],
   "source": [
    "sv_en_7 = sv_en_6.filter(lambda x: zip(x[1][0], x[1][1]))\n",
    "sv_en_7.take(3)"
   ]
  },
  {
   "cell_type": "code",
   "execution_count": null,
   "id": "bd5f4dad-2140-428f-915e-ef4cee1780e4",
   "metadata": {},
   "outputs": [],
   "source": [
    "def zip_lists(list_1, list_2):\n",
    "    translation_list = []\n",
    "    for last, first in zip(list_1, list_2):\n",
    "    pair_list = [last,first]\n",
    "    translation_list.append(pair_list)\n",
    "    return translation_list"
   ]
  }
 ],
 "metadata": {
  "kernelspec": {
   "display_name": "Python 3 (ipykernel)",
   "language": "python",
   "name": "python3"
  },
  "language_info": {
   "codemirror_mode": {
    "name": "ipython",
    "version": 3
   },
   "file_extension": ".py",
   "mimetype": "text/x-python",
   "name": "python",
   "nbconvert_exporter": "python",
   "pygments_lexer": "ipython3",
   "version": "3.10.12"
  }
 },
 "nbformat": 4,
 "nbformat_minor": 5
}
