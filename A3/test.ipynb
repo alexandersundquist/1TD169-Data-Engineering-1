{
 "cells": [
  {
   "cell_type": "code",
   "execution_count": null,
   "id": "a858f0cc-fda2-445a-97f3-2f7de7f4f59a",
   "metadata": {},
   "outputs": [],
   "source": []
  }
 ],
 "metadata": {
  "kernelspec": {
   "display_name": "",
   "name": ""
  },
  "language_info": {
   "name": ""
  }
 },
 "nbformat": 4,
 "nbformat_minor": 5
}
